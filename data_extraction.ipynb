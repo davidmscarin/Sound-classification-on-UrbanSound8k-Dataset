{
 "cells": [
  {
   "cell_type": "markdown",
   "metadata": {},
   "source": [
    "### Disclosure"
   ]
  },
  {
   "cell_type": "markdown",
   "metadata": {},
   "source": [
    "This notebook file has as its porpuse running the data extraction as standard procedure and as such won't be documented in detail. The main ideas that must be retained are that the procedure follows what is intended in the assignment's sugestion and extraction code made available. The features are being extracted into files, which we didn't anex due to their size and lack of delivery purpose, and then fed into the models. We've extracted the MFCC's to feed the RNN and for the CNN we used the Mel Spectrograms as input."
   ]
  },
  {
   "cell_type": "markdown",
   "metadata": {},
   "source": [
    "### Dependencies"
   ]
  },
  {
   "cell_type": "code",
   "execution_count": 1,
   "metadata": {},
   "outputs": [],
   "source": [
    "import soundata\n",
    "import tensorflow as tf\n",
    "import matplotlib.pyplot as plt\n",
    "import librosa\n",
    "import numpy as np\n",
    "import pickle\n",
    "import pandas as pd"
   ]
  },
  {
   "cell_type": "code",
   "execution_count": 2,
   "metadata": {},
   "outputs": [],
   "source": [
    "tf.keras.backend.clear_session()"
   ]
  },
  {
   "cell_type": "code",
   "execution_count": 3,
   "metadata": {},
   "outputs": [],
   "source": [
    "# %store -r dataset_mfcc\n",
    "# %store -r spectrogram_dataset"
   ]
  },
  {
   "cell_type": "markdown",
   "metadata": {},
   "source": [
    "### Initializing the dataset"
   ]
  },
  {
   "cell_type": "code",
   "execution_count": 3,
   "metadata": {},
   "outputs": [],
   "source": [
    "dataset = soundata.initialize('urbansound8k',data_home='urbansound')\n",
    "# dataset.download(force_overwrite=True) #so that whenever you download it replaces the file even if it already exists or is corrupted\n",
    "# #dataset.validate()\n",
    "# dataset"
   ]
  },
  {
   "cell_type": "markdown",
   "metadata": {},
   "source": [
    "### Feature Extraction"
   ]
  },
  {
   "cell_type": "code",
   "execution_count": 4,
   "metadata": {},
   "outputs": [],
   "source": [
    "metadata = pd.read_csv('UrbanSound8K.csv')"
   ]
  },
  {
   "cell_type": "code",
   "execution_count": 5,
   "metadata": {},
   "outputs": [
    {
     "data": {
      "text/html": [
       "<div>\n",
       "<style scoped>\n",
       "    .dataframe tbody tr th:only-of-type {\n",
       "        vertical-align: middle;\n",
       "    }\n",
       "\n",
       "    .dataframe tbody tr th {\n",
       "        vertical-align: top;\n",
       "    }\n",
       "\n",
       "    .dataframe thead th {\n",
       "        text-align: right;\n",
       "    }\n",
       "</style>\n",
       "<table border=\"1\" class=\"dataframe\">\n",
       "  <thead>\n",
       "    <tr style=\"text-align: right;\">\n",
       "      <th></th>\n",
       "      <th>slice_file_name</th>\n",
       "      <th>fsID</th>\n",
       "      <th>start</th>\n",
       "      <th>end</th>\n",
       "      <th>salience</th>\n",
       "      <th>fold</th>\n",
       "      <th>classID</th>\n",
       "      <th>class</th>\n",
       "    </tr>\n",
       "  </thead>\n",
       "  <tbody>\n",
       "    <tr>\n",
       "      <th>0</th>\n",
       "      <td>100032-3-0-0.wav</td>\n",
       "      <td>100032</td>\n",
       "      <td>0.0</td>\n",
       "      <td>0.317551</td>\n",
       "      <td>1</td>\n",
       "      <td>5</td>\n",
       "      <td>3</td>\n",
       "      <td>dog_bark</td>\n",
       "    </tr>\n",
       "    <tr>\n",
       "      <th>1</th>\n",
       "      <td>100263-2-0-117.wav</td>\n",
       "      <td>100263</td>\n",
       "      <td>58.5</td>\n",
       "      <td>62.500000</td>\n",
       "      <td>1</td>\n",
       "      <td>5</td>\n",
       "      <td>2</td>\n",
       "      <td>children_playing</td>\n",
       "    </tr>\n",
       "    <tr>\n",
       "      <th>2</th>\n",
       "      <td>100263-2-0-121.wav</td>\n",
       "      <td>100263</td>\n",
       "      <td>60.5</td>\n",
       "      <td>64.500000</td>\n",
       "      <td>1</td>\n",
       "      <td>5</td>\n",
       "      <td>2</td>\n",
       "      <td>children_playing</td>\n",
       "    </tr>\n",
       "    <tr>\n",
       "      <th>3</th>\n",
       "      <td>100263-2-0-126.wav</td>\n",
       "      <td>100263</td>\n",
       "      <td>63.0</td>\n",
       "      <td>67.000000</td>\n",
       "      <td>1</td>\n",
       "      <td>5</td>\n",
       "      <td>2</td>\n",
       "      <td>children_playing</td>\n",
       "    </tr>\n",
       "    <tr>\n",
       "      <th>4</th>\n",
       "      <td>100263-2-0-137.wav</td>\n",
       "      <td>100263</td>\n",
       "      <td>68.5</td>\n",
       "      <td>72.500000</td>\n",
       "      <td>1</td>\n",
       "      <td>5</td>\n",
       "      <td>2</td>\n",
       "      <td>children_playing</td>\n",
       "    </tr>\n",
       "  </tbody>\n",
       "</table>\n",
       "</div>"
      ],
      "text/plain": [
       "      slice_file_name    fsID  start        end  salience  fold  classID  \\\n",
       "0    100032-3-0-0.wav  100032    0.0   0.317551         1     5        3   \n",
       "1  100263-2-0-117.wav  100263   58.5  62.500000         1     5        2   \n",
       "2  100263-2-0-121.wav  100263   60.5  64.500000         1     5        2   \n",
       "3  100263-2-0-126.wav  100263   63.0  67.000000         1     5        2   \n",
       "4  100263-2-0-137.wav  100263   68.5  72.500000         1     5        2   \n",
       "\n",
       "              class  \n",
       "0          dog_bark  \n",
       "1  children_playing  \n",
       "2  children_playing  \n",
       "3  children_playing  \n",
       "4  children_playing  "
      ]
     },
     "execution_count": 5,
     "metadata": {},
     "output_type": "execute_result"
    }
   ],
   "source": [
    "metadata.head(5)"
   ]
  },
  {
   "cell_type": "code",
   "execution_count": 7,
   "metadata": {},
   "outputs": [
    {
     "data": {
      "text/plain": [
       "dog_bark            1000\n",
       "children_playing    1000\n",
       "air_conditioner     1000\n",
       "street_music        1000\n",
       "engine_idling       1000\n",
       "jackhammer          1000\n",
       "drilling            1000\n",
       "siren                929\n",
       "car_horn             429\n",
       "gun_shot             374\n",
       "Name: class, dtype: int64"
      ]
     },
     "execution_count": 7,
     "metadata": {},
     "output_type": "execute_result"
    }
   ],
   "source": [
    "metadata['class'].value_counts()"
   ]
  },
  {
   "cell_type": "code",
   "execution_count": null,
   "metadata": {},
   "outputs": [],
   "source": [
    "ax = sns.histplot(y='class',data = metadata, hue=\"class\", multiple=\"stack\")\n",
    "sns.move_legend(ax, \"upper left\", bbox_to_anchor=(1, 1))\n",
    "plt.xticks(rotation=45);\n",
    "sns.despine()\n",
    "plt.show()"
   ]
  },
  {
   "cell_type": "code",
   "execution_count": 6,
   "metadata": {},
   "outputs": [
    {
     "data": {
      "text/plain": [
       "3"
      ]
     },
     "execution_count": 6,
     "metadata": {},
     "output_type": "execute_result"
    }
   ],
   "source": [
    "metadata[metadata['slice_file_name'] == '100032-3-0-0.wav']['classID'][0]"
   ]
  },
  {
   "cell_type": "code",
   "execution_count": 7,
   "metadata": {},
   "outputs": [],
   "source": [
    "a = []"
   ]
  },
  {
   "cell_type": "code",
   "execution_count": 8,
   "metadata": {},
   "outputs": [
    {
     "data": {
      "text/plain": [
       "0         100032-3-0-0.wav\n",
       "1       100263-2-0-117.wav\n",
       "2       100263-2-0-121.wav\n",
       "3       100263-2-0-126.wav\n",
       "4       100263-2-0-137.wav\n",
       "               ...        \n",
       "8727       99812-1-2-0.wav\n",
       "8728       99812-1-3-0.wav\n",
       "8729       99812-1-4-0.wav\n",
       "8730       99812-1-5-0.wav\n",
       "8731       99812-1-6-0.wav\n",
       "Name: slice_file_name, Length: 8732, dtype: object"
      ]
     },
     "execution_count": 8,
     "metadata": {},
     "output_type": "execute_result"
    }
   ],
   "source": [
    "metadata['slice_file_name']"
   ]
  },
  {
   "cell_type": "code",
   "execution_count": 9,
   "metadata": {},
   "outputs": [],
   "source": [
    "a.append(metadata[metadata['slice_file_name'] == '101415-3-0-2.wav']['classID'])"
   ]
  },
  {
   "cell_type": "code",
   "execution_count": 10,
   "metadata": {},
   "outputs": [
    {
     "data": {
      "text/plain": [
       "[64    3\n",
       " Name: classID, dtype: int64]"
      ]
     },
     "execution_count": 10,
     "metadata": {},
     "output_type": "execute_result"
    }
   ],
   "source": [
    "a"
   ]
  },
  {
   "cell_type": "code",
   "execution_count": 9,
   "metadata": {},
   "outputs": [
    {
     "data": {
      "text/plain": [
       "3"
      ]
     },
     "execution_count": 9,
     "metadata": {},
     "output_type": "execute_result"
    }
   ],
   "source": [
    "metadata[metadata['slice_file_name'] == '101415-3-0-2.wav']['classID'].values[0]"
   ]
  },
  {
   "cell_type": "code",
   "execution_count": 12,
   "metadata": {},
   "outputs": [
    {
     "data": {
      "text/plain": [
       "[64    3\n",
       " Name: classID, dtype: int64]"
      ]
     },
     "execution_count": 12,
     "metadata": {},
     "output_type": "execute_result"
    }
   ],
   "source": [
    "a"
   ]
  },
  {
   "cell_type": "code",
   "execution_count": 6,
   "metadata": {},
   "outputs": [],
   "source": [
    "root_dir = \"C:\\\\tmp\\\\sound_datasets\\\\urbansound8k\\\\audio\\\\fold\""
   ]
  },
  {
   "cell_type": "code",
   "execution_count": 7,
   "metadata": {},
   "outputs": [],
   "source": [
    "# resampling freq\n",
    "target_sr =44100\n",
    "\n",
    "# MFCC parameters\n",
    "n_mfcc=40\n",
    "hop_length=round(target_sr*0.0125)\n",
    "win_length=round(target_sr*0.023)\n",
    "n_fft=2**14\n",
    "mfcc_time_size = 4*target_sr//hop_length+1\n",
    "\n",
    "# read all wav file without resampling\n",
    "#dataset=np.zeros(shape=[8730,4*target_sr])\n",
    "dataset_mfcc=np.zeros(shape=[8730,n_mfcc,mfcc_time_size])\n",
    "spectrogram_dataset_reduced = np.zeros(shape=[8730,128,173])\n",
    "spectrogram_dataset_more_reduced = np.zeros(shape=[8730,128,87])"
   ]
  },
  {
   "cell_type": "code",
   "execution_count": 8,
   "metadata": {},
   "outputs": [
    {
     "data": {
      "text/plain": [
       "array([[[0., 0., 0., ..., 0., 0., 0.],\n",
       "        [0., 0., 0., ..., 0., 0., 0.],\n",
       "        [0., 0., 0., ..., 0., 0., 0.],\n",
       "        ...,\n",
       "        [0., 0., 0., ..., 0., 0., 0.],\n",
       "        [0., 0., 0., ..., 0., 0., 0.],\n",
       "        [0., 0., 0., ..., 0., 0., 0.]],\n",
       "\n",
       "       [[0., 0., 0., ..., 0., 0., 0.],\n",
       "        [0., 0., 0., ..., 0., 0., 0.],\n",
       "        [0., 0., 0., ..., 0., 0., 0.],\n",
       "        ...,\n",
       "        [0., 0., 0., ..., 0., 0., 0.],\n",
       "        [0., 0., 0., ..., 0., 0., 0.],\n",
       "        [0., 0., 0., ..., 0., 0., 0.]],\n",
       "\n",
       "       [[0., 0., 0., ..., 0., 0., 0.],\n",
       "        [0., 0., 0., ..., 0., 0., 0.],\n",
       "        [0., 0., 0., ..., 0., 0., 0.],\n",
       "        ...,\n",
       "        [0., 0., 0., ..., 0., 0., 0.],\n",
       "        [0., 0., 0., ..., 0., 0., 0.],\n",
       "        [0., 0., 0., ..., 0., 0., 0.]],\n",
       "\n",
       "       ...,\n",
       "\n",
       "       [[0., 0., 0., ..., 0., 0., 0.],\n",
       "        [0., 0., 0., ..., 0., 0., 0.],\n",
       "        [0., 0., 0., ..., 0., 0., 0.],\n",
       "        ...,\n",
       "        [0., 0., 0., ..., 0., 0., 0.],\n",
       "        [0., 0., 0., ..., 0., 0., 0.],\n",
       "        [0., 0., 0., ..., 0., 0., 0.]],\n",
       "\n",
       "       [[0., 0., 0., ..., 0., 0., 0.],\n",
       "        [0., 0., 0., ..., 0., 0., 0.],\n",
       "        [0., 0., 0., ..., 0., 0., 0.],\n",
       "        ...,\n",
       "        [0., 0., 0., ..., 0., 0., 0.],\n",
       "        [0., 0., 0., ..., 0., 0., 0.],\n",
       "        [0., 0., 0., ..., 0., 0., 0.]],\n",
       "\n",
       "       [[0., 0., 0., ..., 0., 0., 0.],\n",
       "        [0., 0., 0., ..., 0., 0., 0.],\n",
       "        [0., 0., 0., ..., 0., 0., 0.],\n",
       "        ...,\n",
       "        [0., 0., 0., ..., 0., 0., 0.],\n",
       "        [0., 0., 0., ..., 0., 0., 0.],\n",
       "        [0., 0., 0., ..., 0., 0., 0.]]])"
      ]
     },
     "execution_count": 8,
     "metadata": {},
     "output_type": "execute_result"
    }
   ],
   "source": [
    "spectrogram_dataset_reduced"
   ]
  },
  {
   "cell_type": "code",
   "execution_count": 9,
   "metadata": {},
   "outputs": [],
   "source": [
    "#_wav_dir_=\"C:\\\\tmp\\\\sound_datasets\\\\urbansound8k\\\\audio\\\\fold1\"\n",
    "#files = librosa.util.find_files(wav_dir)"
   ]
  },
  {
   "cell_type": "markdown",
   "metadata": {},
   "source": [
    "There have been some cases where the librosa function returned a different shape than expected and in such cases these values were discraded, and thus the 'erro' message printed."
   ]
  },
  {
   "cell_type": "code",
   "execution_count": 8,
   "metadata": {},
   "outputs": [
    {
     "name": "stdout",
     "output_type": "stream",
     "text": [
      "extracting fold 1\n"
     ]
    },
    {
     "name": "stdout",
     "output_type": "stream",
     "text": [
      "extracting fold 2\n",
      "extracting fold 3\n",
      "extracting fold 4\n",
      "extracting fold 5\n",
      "extracting fold 6\n",
      "extracting fold 7\n",
      "extracting fold 8\n",
      "erro\n",
      "erro\n",
      "erro\n",
      "erro\n",
      "erro\n",
      "erro\n",
      "erro\n",
      "extracting fold 9\n",
      "extracting fold 10\n"
     ]
    }
   ],
   "source": [
    "\n",
    "i = 0\n",
    "fold_pointer = []\n",
    "file_names = []\n",
    "labels_arr = []\n",
    "error_count = 0\n",
    "\n",
    "for j in range(0, 10):\n",
    "    print(f\"extracting fold {j+1}\")\n",
    "    dir_name = root_dir + str(j+1)\n",
    "    files = librosa.util.find_files(dir_name)\n",
    "    for f in files:\n",
    "        file_name = str(f).replace(dir_name, '')\n",
    "        (sig, rate) = librosa.load(str(f), sr=None)\n",
    "        sig_res =librosa.resample(sig, orig_sr=rate, target_sr=target_sr)\n",
    "        \n",
    "        # zero padding\n",
    "        if len(sig_res)<4*target_sr:\n",
    "            sig_res_pad = np.concatenate((sig_res, np.zeros(4*target_sr-len(sig_res))),axis=0)\n",
    "\n",
    "        else:\n",
    "            sig_res_pad=sig_res\n",
    "\n",
    "        #handling errors\n",
    "        try:\n",
    "            spectrogram_dataset_reduced[i] = librosa.feature.melspectrogram(y=sig_res_pad,sr=target_sr, hop_length = 1024)\n",
    "            sig_mfcc =librosa.feature.mfcc(y=sig_res_pad,sr=target_sr,n_fft=n_fft,hop_length=hop_length,win_length=win_length,n_mfcc=n_mfcc)\n",
    "            dataset_mfcc[i]=sig_mfcc\n",
    "            labels_arr.append(metadata[metadata['slice_file_name'] == file_name[1:]]['classID'].values[0])\n",
    "            file_names.append(file_name)\n",
    "            i+=1\n",
    "\n",
    "        except ValueError:\n",
    "            print(\"erro\")\n",
    "            error_count+=1\n",
    "            continue\n",
    "\n",
    "    fold_pointer.append(i+1)"
   ]
  },
  {
   "cell_type": "code",
   "execution_count": 9,
   "metadata": {},
   "outputs": [
    {
     "data": {
      "text/plain": [
       "[874, 1762, 2687, 3677, 4613, 5436, 6274, 7073, 7889, 8726]"
      ]
     },
     "execution_count": 9,
     "metadata": {},
     "output_type": "execute_result"
    }
   ],
   "source": [
    "fold_pointer"
   ]
  },
  {
   "cell_type": "code",
   "execution_count": 10,
   "metadata": {},
   "outputs": [
    {
     "data": {
      "text/plain": [
       "8725"
      ]
     },
     "execution_count": 10,
     "metadata": {},
     "output_type": "execute_result"
    }
   ],
   "source": [
    "len(labels_arr)"
   ]
  },
  {
   "cell_type": "code",
   "execution_count": 11,
   "metadata": {},
   "outputs": [
    {
     "data": {
      "text/plain": [
       "8730"
      ]
     },
     "execution_count": 11,
     "metadata": {},
     "output_type": "execute_result"
    }
   ],
   "source": [
    "len(dataset_mfcc)"
   ]
  },
  {
   "cell_type": "code",
   "execution_count": 12,
   "metadata": {},
   "outputs": [
    {
     "data": {
      "text/plain": [
       "8730"
      ]
     },
     "execution_count": 12,
     "metadata": {},
     "output_type": "execute_result"
    }
   ],
   "source": [
    "len(spectrogram_dataset_reduced)"
   ]
  },
  {
   "cell_type": "code",
   "execution_count": 13,
   "metadata": {},
   "outputs": [
    {
     "data": {
      "text/plain": [
       "array([[0., 0., 0., ..., 0., 0., 0.],\n",
       "       [0., 0., 0., ..., 0., 0., 0.],\n",
       "       [0., 0., 0., ..., 0., 0., 0.],\n",
       "       ...,\n",
       "       [0., 0., 0., ..., 0., 0., 0.],\n",
       "       [0., 0., 0., ..., 0., 0., 0.],\n",
       "       [0., 0., 0., ..., 0., 0., 0.]])"
      ]
     },
     "execution_count": 13,
     "metadata": {},
     "output_type": "execute_result"
    }
   ],
   "source": [
    "spectrogram_dataset_reduced[8729]"
   ]
  },
  {
   "cell_type": "code",
   "execution_count": 14,
   "metadata": {},
   "outputs": [
    {
     "data": {
      "text/plain": [
       "array([[4.48685745e-03, 5.50346795e-06, 1.15622352e-05, ...,\n",
       "        2.10099461e-04, 7.18496667e-05, 4.89348080e-03],\n",
       "       [5.88603504e-03, 2.86376569e-04, 1.24319759e-03, ...,\n",
       "        5.69068419e-04, 2.40471377e-03, 6.76575629e-03],\n",
       "       [8.14870279e-03, 3.05390870e-03, 9.66228172e-03, ...,\n",
       "        3.87924872e-02, 1.41057502e-02, 7.62809115e-03],\n",
       "       ...,\n",
       "       [3.31137599e-05, 2.27977667e-04, 2.28453660e-03, ...,\n",
       "        8.29369310e-06, 5.42635371e-06, 8.43918770e-06],\n",
       "       [2.29900470e-05, 1.66288810e-05, 3.30576004e-05, ...,\n",
       "        5.65234495e-06, 3.14958902e-06, 1.20857339e-05],\n",
       "       [2.60089619e-05, 7.28803752e-06, 1.03307011e-05, ...,\n",
       "        1.22949518e-06, 1.56546571e-06, 8.83742086e-06]])"
      ]
     },
     "execution_count": 14,
     "metadata": {},
     "output_type": "execute_result"
    }
   ],
   "source": [
    "spectrogram_dataset_reduced[8724]"
   ]
  },
  {
   "cell_type": "code",
   "execution_count": 16,
   "metadata": {},
   "outputs": [
    {
     "data": {
      "text/plain": [
       "(8730, 128, 173)"
      ]
     },
     "execution_count": 16,
     "metadata": {},
     "output_type": "execute_result"
    }
   ],
   "source": [
    "spectrogram_dataset_reduced.shape"
   ]
  },
  {
   "cell_type": "code",
   "execution_count": 18,
   "metadata": {},
   "outputs": [
    {
     "data": {
      "text/plain": [
       "8725"
      ]
     },
     "execution_count": 18,
     "metadata": {},
     "output_type": "execute_result"
    }
   ],
   "source": [
    "len(labels_arr)"
   ]
  },
  {
   "cell_type": "code",
   "execution_count": 23,
   "metadata": {},
   "outputs": [],
   "source": [
    "spec_data = spectrogram_dataset_reduced[:-5]"
   ]
  },
  {
   "cell_type": "code",
   "execution_count": 24,
   "metadata": {},
   "outputs": [
    {
     "data": {
      "text/plain": [
       "(8725, 128, 173)"
      ]
     },
     "execution_count": 24,
     "metadata": {},
     "output_type": "execute_result"
    }
   ],
   "source": [
    "spec_data.shape"
   ]
  },
  {
   "cell_type": "code",
   "execution_count": 25,
   "metadata": {},
   "outputs": [],
   "source": [
    "mfcc_data = dataset_mfcc[:-5]"
   ]
  },
  {
   "cell_type": "code",
   "execution_count": 26,
   "metadata": {},
   "outputs": [
    {
     "data": {
      "text/plain": [
       "(8725, 40, 321)"
      ]
     },
     "execution_count": 26,
     "metadata": {},
     "output_type": "execute_result"
    }
   ],
   "source": [
    "mfcc_data.shape"
   ]
  },
  {
   "cell_type": "code",
   "execution_count": 28,
   "metadata": {},
   "outputs": [
    {
     "data": {
      "text/plain": [
       "array([   1,  874, 1762, 2687, 3677, 4613, 5436, 6274, 7073, 7889, 8726])"
      ]
     },
     "execution_count": 28,
     "metadata": {},
     "output_type": "execute_result"
    }
   ],
   "source": [
    "pointers = np.insert(fold_pointer, 0, 1)\n",
    "pointers"
   ]
  },
  {
   "cell_type": "code",
   "execution_count": 29,
   "metadata": {},
   "outputs": [
    {
     "data": {
      "text/plain": [
       "['\\\\101415-3-0-2.wav',\n",
       " '\\\\101415-3-0-3.wav',\n",
       " '\\\\101415-3-0-8.wav',\n",
       " '\\\\102106-3-0-0.wav',\n",
       " '\\\\102305-6-0-0.wav',\n",
       " '\\\\102842-3-0-1.wav',\n",
       " '\\\\102842-3-1-0.wav',\n",
       " '\\\\102842-3-1-5.wav',\n",
       " '\\\\102842-3-1-6.wav',\n",
       " '\\\\103074-7-0-0.wav',\n",
       " '\\\\103074-7-0-1.wav',\n",
       " '\\\\103074-7-0-2.wav',\n",
       " '\\\\103074-7-1-0.wav',\n",
       " '\\\\103074-7-1-1.wav',\n",
       " '\\\\103074-7-1-2.wav',\n",
       " '\\\\103074-7-1-3.wav',\n",
       " '\\\\103074-7-1-4.wav',\n",
       " '\\\\103074-7-1-5.wav',\n",
       " '\\\\103074-7-1-6.wav',\n",
       " '\\\\103074-7-2-0.wav',\n",
       " '\\\\103074-7-3-0.wav',\n",
       " '\\\\103074-7-3-1.wav',\n",
       " '\\\\103074-7-3-2.wav',\n",
       " '\\\\103074-7-3-3.wav',\n",
       " '\\\\103074-7-4-0.wav',\n",
       " '\\\\103074-7-4-1.wav',\n",
       " '\\\\103074-7-4-2.wav',\n",
       " '\\\\103074-7-4-3.wav',\n",
       " '\\\\103074-7-4-4.wav',\n",
       " '\\\\103074-7-4-5.wav',\n",
       " '\\\\103074-7-4-6.wav',\n",
       " '\\\\103258-5-0-0.wav',\n",
       " '\\\\103258-5-0-1.wav',\n",
       " '\\\\103258-5-0-10.wav',\n",
       " '\\\\103258-5-0-11.wav',\n",
       " '\\\\103258-5-0-12.wav',\n",
       " '\\\\103258-5-0-13.wav',\n",
       " '\\\\103258-5-0-14.wav',\n",
       " '\\\\103258-5-0-15.wav',\n",
       " '\\\\103258-5-0-16.wav',\n",
       " '\\\\103258-5-0-17.wav',\n",
       " '\\\\103258-5-0-18.wav',\n",
       " '\\\\103258-5-0-19.wav',\n",
       " '\\\\103258-5-0-2.wav',\n",
       " '\\\\103258-5-0-3.wav',\n",
       " '\\\\103258-5-0-4.wav',\n",
       " '\\\\103258-5-0-5.wav',\n",
       " '\\\\103258-5-0-6.wav',\n",
       " '\\\\103258-5-0-7.wav',\n",
       " '\\\\103258-5-0-8.wav',\n",
       " '\\\\103258-5-0-9.wav',\n",
       " '\\\\105415-2-0-1.wav',\n",
       " '\\\\105415-2-0-15.wav',\n",
       " '\\\\105415-2-0-19.wav',\n",
       " '\\\\105415-2-0-21.wav',\n",
       " '\\\\105415-2-0-24.wav',\n",
       " '\\\\105415-2-0-4.wav',\n",
       " '\\\\105415-2-0-6.wav',\n",
       " '\\\\105415-2-0-8.wav',\n",
       " '\\\\106905-8-0-0.wav',\n",
       " '\\\\106905-8-0-1.wav',\n",
       " '\\\\106905-8-0-2.wav',\n",
       " '\\\\106905-8-0-3.wav',\n",
       " '\\\\108041-9-0-11.wav',\n",
       " '\\\\108041-9-0-2.wav',\n",
       " '\\\\108041-9-0-4.wav',\n",
       " '\\\\108041-9-0-5.wav',\n",
       " '\\\\108041-9-0-6.wav',\n",
       " '\\\\108041-9-0-7.wav',\n",
       " '\\\\108041-9-0-9.wav',\n",
       " '\\\\108362-2-0-11.wav',\n",
       " '\\\\108362-2-0-12.wav',\n",
       " '\\\\108362-2-0-21.wav',\n",
       " '\\\\108362-2-0-23.wav',\n",
       " '\\\\108362-2-0-29.wav',\n",
       " '\\\\108362-2-0-30.wav',\n",
       " '\\\\108362-2-0-7.wav',\n",
       " '\\\\108362-2-0-9.wav',\n",
       " '\\\\113205-5-0-0.wav',\n",
       " '\\\\113205-5-1-0.wav',\n",
       " '\\\\113205-5-1-1.wav',\n",
       " '\\\\113205-5-1-2.wav',\n",
       " '\\\\113205-5-1-3.wav',\n",
       " '\\\\113205-5-1-4.wav',\n",
       " '\\\\113205-5-1-5.wav',\n",
       " '\\\\113205-5-1-6.wav',\n",
       " '\\\\113205-5-1-7.wav',\n",
       " '\\\\113205-5-1-8.wav',\n",
       " '\\\\113205-5-1-9.wav',\n",
       " '\\\\114587-3-0-2.wav',\n",
       " '\\\\114587-3-0-4.wav',\n",
       " '\\\\114587-3-0-5.wav',\n",
       " '\\\\114587-3-0-7.wav',\n",
       " '\\\\118101-3-0-0.wav',\n",
       " '\\\\118101-3-0-3.wav',\n",
       " '\\\\118101-3-0-4.wav',\n",
       " '\\\\118101-3-0-6.wav',\n",
       " '\\\\118279-8-0-0.wav',\n",
       " '\\\\118279-8-0-1.wav',\n",
       " '\\\\118279-8-0-10.wav',\n",
       " '\\\\118279-8-0-11.wav',\n",
       " '\\\\118279-8-0-12.wav',\n",
       " '\\\\118279-8-0-13.wav',\n",
       " '\\\\118279-8-0-14.wav',\n",
       " '\\\\118279-8-0-2.wav',\n",
       " '\\\\118279-8-0-3.wav',\n",
       " '\\\\118279-8-0-4.wav',\n",
       " '\\\\118279-8-0-5.wav',\n",
       " '\\\\118279-8-0-6.wav',\n",
       " '\\\\118279-8-0-7.wav',\n",
       " '\\\\118279-8-0-8.wav',\n",
       " '\\\\118279-8-0-9.wav',\n",
       " '\\\\118963-3-0-0.wav',\n",
       " '\\\\119455-5-0-0.wav',\n",
       " '\\\\119455-5-0-1.wav',\n",
       " '\\\\119455-5-0-2.wav',\n",
       " '\\\\119455-5-0-3.wav',\n",
       " '\\\\119455-5-0-4.wav',\n",
       " '\\\\119455-5-0-5.wav',\n",
       " '\\\\119455-5-0-6.wav',\n",
       " '\\\\119455-5-0-7.wav',\n",
       " '\\\\122690-6-0-0.wav',\n",
       " '\\\\124489-9-0-12.wav',\n",
       " '\\\\124489-9-0-14.wav',\n",
       " '\\\\124489-9-0-16.wav',\n",
       " '\\\\124489-9-0-17.wav',\n",
       " '\\\\124489-9-0-18.wav',\n",
       " '\\\\124489-9-0-6.wav',\n",
       " '\\\\125791-3-0-12.wav',\n",
       " '\\\\125791-3-0-13.wav',\n",
       " '\\\\125791-3-0-15.wav',\n",
       " '\\\\125791-3-0-9.wav',\n",
       " '\\\\127873-0-0-0.wav',\n",
       " '\\\\130030-3-0-0.wav',\n",
       " '\\\\132016-9-0-0.wav',\n",
       " '\\\\132016-9-0-11.wav',\n",
       " '\\\\132016-9-0-14.wav',\n",
       " '\\\\132016-9-0-16.wav',\n",
       " '\\\\132016-9-0-20.wav',\n",
       " '\\\\132016-9-0-6.wav',\n",
       " '\\\\134717-0-0-0.wav',\n",
       " '\\\\134717-0-0-1.wav',\n",
       " '\\\\134717-0-0-12.wav',\n",
       " '\\\\134717-0-0-13.wav',\n",
       " '\\\\134717-0-0-14.wav',\n",
       " '\\\\134717-0-0-15.wav',\n",
       " '\\\\134717-0-0-16.wav',\n",
       " '\\\\134717-0-0-18.wav',\n",
       " '\\\\134717-0-0-19.wav',\n",
       " '\\\\134717-0-0-2.wav',\n",
       " '\\\\134717-0-0-20.wav',\n",
       " '\\\\134717-0-0-21.wav',\n",
       " '\\\\134717-0-0-22.wav',\n",
       " '\\\\134717-0-0-23.wav',\n",
       " '\\\\134717-0-0-24.wav',\n",
       " '\\\\134717-0-0-25.wav',\n",
       " '\\\\134717-0-0-26.wav',\n",
       " '\\\\134717-0-0-27.wav',\n",
       " '\\\\134717-0-0-28.wav',\n",
       " '\\\\134717-0-0-4.wav',\n",
       " '\\\\134717-0-0-5.wav',\n",
       " '\\\\134717-0-0-6.wav',\n",
       " '\\\\134717-0-0-7.wav',\n",
       " '\\\\134717-0-0-8.wav',\n",
       " '\\\\134717-0-0-9.wav',\n",
       " '\\\\135776-2-0-32.wav',\n",
       " '\\\\135776-2-0-37.wav',\n",
       " '\\\\135776-2-0-40.wav',\n",
       " '\\\\135776-2-0-49.wav',\n",
       " '\\\\135776-2-0-50.wav',\n",
       " '\\\\135776-2-0-65.wav',\n",
       " '\\\\135776-2-0-85.wav',\n",
       " '\\\\135776-2-0-90.wav',\n",
       " '\\\\137156-9-0-28.wav',\n",
       " '\\\\137156-9-0-30.wav',\n",
       " '\\\\137156-9-0-31.wav',\n",
       " '\\\\137156-9-0-5.wav',\n",
       " '\\\\137156-9-0-73.wav',\n",
       " '\\\\137156-9-0-79.wav',\n",
       " '\\\\138015-3-0-1.wav',\n",
       " '\\\\138015-3-0-5.wav',\n",
       " '\\\\138015-3-0-7.wav',\n",
       " '\\\\138031-2-0-13.wav',\n",
       " '\\\\138031-2-0-2.wav',\n",
       " '\\\\138031-2-0-22.wav',\n",
       " '\\\\138031-2-0-23.wav',\n",
       " '\\\\138031-2-0-28.wav',\n",
       " '\\\\138031-2-0-45.wav',\n",
       " '\\\\138031-2-0-47.wav',\n",
       " '\\\\138031-2-0-7.wav',\n",
       " '\\\\139951-9-0-13.wav',\n",
       " '\\\\139951-9-0-17.wav',\n",
       " '\\\\139951-9-0-29.wav',\n",
       " '\\\\139951-9-0-33.wav',\n",
       " '\\\\139951-9-0-45.wav',\n",
       " '\\\\139951-9-0-9.wav',\n",
       " '\\\\14113-4-0-0.wav',\n",
       " '\\\\14113-4-0-1.wav',\n",
       " '\\\\143604-5-0-0.wav',\n",
       " '\\\\143651-2-0-0.wav',\n",
       " '\\\\143651-2-0-16.wav',\n",
       " '\\\\143651-2-0-20.wav',\n",
       " '\\\\143651-2-0-22.wav',\n",
       " '\\\\143651-2-0-39.wav',\n",
       " '\\\\143651-2-0-55.wav',\n",
       " '\\\\143651-2-0-59.wav',\n",
       " '\\\\143651-2-0-63.wav',\n",
       " '\\\\146186-5-0-0.wav',\n",
       " '\\\\146186-5-0-1.wav',\n",
       " '\\\\146186-5-0-10.wav',\n",
       " '\\\\146186-5-0-11.wav',\n",
       " '\\\\146186-5-0-12.wav',\n",
       " '\\\\146186-5-0-13.wav',\n",
       " '\\\\146186-5-0-2.wav',\n",
       " '\\\\146186-5-0-3.wav',\n",
       " '\\\\146186-5-0-4.wav',\n",
       " '\\\\146186-5-0-5.wav',\n",
       " '\\\\146186-5-0-6.wav',\n",
       " '\\\\146186-5-0-7.wav',\n",
       " '\\\\146186-5-0-8.wav',\n",
       " '\\\\146186-5-0-9.wav',\n",
       " '\\\\147764-4-0-0.wav',\n",
       " '\\\\147764-4-1-0.wav',\n",
       " '\\\\147764-4-2-0.wav',\n",
       " '\\\\147764-4-3-0.wav',\n",
       " '\\\\147764-4-4-0.wav',\n",
       " '\\\\147764-4-4-1.wav',\n",
       " '\\\\147764-4-4-2.wav',\n",
       " '\\\\147764-4-5-0.wav',\n",
       " '\\\\147764-4-6-0.wav',\n",
       " '\\\\147764-4-7-0.wav',\n",
       " '\\\\147764-4-8-0.wav',\n",
       " '\\\\150341-3-0-0.wav',\n",
       " '\\\\150341-3-1-0.wav',\n",
       " '\\\\151977-0-0-0.wav',\n",
       " '\\\\151977-0-0-1.wav',\n",
       " '\\\\151977-0-0-10.wav',\n",
       " '\\\\151977-0-0-11.wav',\n",
       " '\\\\151977-0-0-12.wav',\n",
       " '\\\\151977-0-0-13.wav',\n",
       " '\\\\151977-0-0-2.wav',\n",
       " '\\\\151977-0-0-3.wav',\n",
       " '\\\\151977-0-0-4.wav',\n",
       " '\\\\151977-0-0-5.wav',\n",
       " '\\\\151977-0-0-6.wav',\n",
       " '\\\\151977-0-0-7.wav',\n",
       " '\\\\151977-0-0-8.wav',\n",
       " '\\\\151977-0-0-9.wav',\n",
       " '\\\\155202-9-0-124.wav',\n",
       " '\\\\155202-9-0-126.wav',\n",
       " '\\\\155202-9-0-135.wav',\n",
       " '\\\\155202-9-0-38.wav',\n",
       " '\\\\155202-9-0-42.wav',\n",
       " '\\\\155202-9-0-6.wav',\n",
       " '\\\\155310-3-0-0.wav',\n",
       " '\\\\15564-2-0-0.wav',\n",
       " '\\\\15564-2-0-1.wav',\n",
       " '\\\\15564-2-0-2.wav',\n",
       " '\\\\156194-1-0-0.wav',\n",
       " '\\\\157867-8-0-0.wav',\n",
       " '\\\\157867-8-0-1.wav',\n",
       " '\\\\157867-8-0-10.wav',\n",
       " '\\\\157867-8-0-11.wav',\n",
       " '\\\\157867-8-0-12.wav',\n",
       " '\\\\157867-8-0-13.wav',\n",
       " '\\\\157867-8-0-14.wav',\n",
       " '\\\\157867-8-0-15.wav',\n",
       " '\\\\157867-8-0-16.wav',\n",
       " '\\\\157867-8-0-17.wav',\n",
       " '\\\\157867-8-0-18.wav',\n",
       " '\\\\157867-8-0-19.wav',\n",
       " '\\\\157867-8-0-2.wav',\n",
       " '\\\\157867-8-0-20.wav',\n",
       " '\\\\157867-8-0-21.wav',\n",
       " '\\\\157867-8-0-22.wav',\n",
       " '\\\\157867-8-0-23.wav',\n",
       " '\\\\157867-8-0-24.wav',\n",
       " '\\\\157867-8-0-25.wav',\n",
       " '\\\\157867-8-0-26.wav',\n",
       " '\\\\157867-8-0-27.wav',\n",
       " '\\\\157867-8-0-28.wav',\n",
       " '\\\\157867-8-0-3.wav',\n",
       " '\\\\157867-8-0-4.wav',\n",
       " '\\\\157867-8-0-5.wav',\n",
       " '\\\\157867-8-0-6.wav',\n",
       " '\\\\157867-8-0-7.wav',\n",
       " '\\\\157867-8-0-8.wav',\n",
       " '\\\\157867-8-0-9.wav',\n",
       " '\\\\159738-8-0-0.wav',\n",
       " '\\\\159738-8-0-1.wav',\n",
       " '\\\\159738-8-0-10.wav',\n",
       " '\\\\159738-8-0-11.wav',\n",
       " '\\\\159738-8-0-12.wav',\n",
       " '\\\\159738-8-0-13.wav',\n",
       " '\\\\159738-8-0-14.wav',\n",
       " '\\\\159738-8-0-15.wav',\n",
       " '\\\\159738-8-0-16.wav',\n",
       " '\\\\159738-8-0-17.wav',\n",
       " '\\\\159738-8-0-18.wav',\n",
       " '\\\\159738-8-0-19.wav',\n",
       " '\\\\159738-8-0-2.wav',\n",
       " '\\\\159738-8-0-3.wav',\n",
       " '\\\\159738-8-0-4.wav',\n",
       " '\\\\159738-8-0-5.wav',\n",
       " '\\\\159738-8-0-6.wav',\n",
       " '\\\\159738-8-0-7.wav',\n",
       " '\\\\159738-8-0-8.wav',\n",
       " '\\\\159738-8-0-9.wav',\n",
       " '\\\\160009-2-0-1.wav',\n",
       " '\\\\160009-2-0-11.wav',\n",
       " '\\\\160009-2-0-22.wav',\n",
       " '\\\\160009-2-0-30.wav',\n",
       " '\\\\160009-2-0-31.wav',\n",
       " '\\\\160009-2-0-47.wav',\n",
       " '\\\\160009-2-0-5.wav',\n",
       " '\\\\160009-2-0-50.wav',\n",
       " '\\\\160094-3-0-0.wav',\n",
       " '\\\\161702-9-0-26.wav',\n",
       " '\\\\161702-9-0-30.wav',\n",
       " '\\\\161702-9-0-37.wav',\n",
       " '\\\\161702-9-0-45.wav',\n",
       " '\\\\161702-9-0-6.wav',\n",
       " '\\\\161702-9-0-8.wav',\n",
       " '\\\\162540-1-0-0.wav',\n",
       " '\\\\162540-1-1-0.wav',\n",
       " '\\\\162540-1-2-0.wav',\n",
       " '\\\\162703-1-0-0.wav',\n",
       " '\\\\164053-8-0-0.wav',\n",
       " '\\\\164053-8-1-0.wav',\n",
       " '\\\\164053-8-2-0.wav',\n",
       " '\\\\164053-8-2-1.wav',\n",
       " '\\\\164053-8-2-2.wav',\n",
       " '\\\\164053-8-2-3.wav',\n",
       " '\\\\164053-8-3-0.wav',\n",
       " '\\\\164312-3-0-0.wav',\n",
       " '\\\\164312-3-1-0.wav',\n",
       " '\\\\164312-3-3-0.wav',\n",
       " '\\\\164312-3-4-0.wav',\n",
       " '\\\\165067-2-0-111.wav',\n",
       " '\\\\165067-2-0-112.wav',\n",
       " '\\\\165067-2-0-35.wav',\n",
       " '\\\\165067-2-0-56.wav',\n",
       " '\\\\165067-2-0-72.wav',\n",
       " '\\\\165067-2-0-9.wav',\n",
       " '\\\\165067-2-0-91.wav',\n",
       " '\\\\165642-4-0-0.wav',\n",
       " '\\\\165645-4-0-0.wav',\n",
       " '\\\\165645-4-1-0.wav',\n",
       " '\\\\165645-4-2-0.wav',\n",
       " '\\\\165645-4-3-0.wav',\n",
       " '\\\\165645-4-4-0.wav',\n",
       " '\\\\165645-4-5-0.wav',\n",
       " '\\\\166268-3-0-0.wav',\n",
       " '\\\\166268-3-1-0.wav',\n",
       " '\\\\166268-3-2-0.wav',\n",
       " '\\\\172314-9-0-22.wav',\n",
       " '\\\\172314-9-0-40.wav',\n",
       " '\\\\172314-9-0-51.wav',\n",
       " '\\\\172314-9-0-52.wav',\n",
       " '\\\\172314-9-0-72.wav',\n",
       " '\\\\172314-9-0-80.wav',\n",
       " '\\\\174276-7-0-0.wav',\n",
       " '\\\\174276-7-1-0.wav',\n",
       " '\\\\174276-7-2-0.wav',\n",
       " '\\\\174276-7-3-0.wav',\n",
       " '\\\\174276-7-4-0.wav',\n",
       " '\\\\174276-7-5-0.wav',\n",
       " '\\\\174276-7-6-0.wav',\n",
       " '\\\\174290-6-0-0.wav',\n",
       " '\\\\174290-6-1-0.wav',\n",
       " '\\\\174290-6-2-0.wav',\n",
       " '\\\\174290-6-3-0.wav',\n",
       " '\\\\174294-6-0-0.wav',\n",
       " '\\\\174294-6-1-0.wav',\n",
       " '\\\\174294-6-2-0.wav',\n",
       " '\\\\175845-1-0-0.wav',\n",
       " '\\\\175851-1-0-0.wav',\n",
       " '\\\\17592-5-0-0.wav',\n",
       " '\\\\17592-5-1-0.wav',\n",
       " '\\\\17592-5-1-1.wav',\n",
       " '\\\\17592-5-1-2.wav',\n",
       " '\\\\17592-5-1-3.wav',\n",
       " '\\\\176257-3-0-0.wav',\n",
       " '\\\\176258-3-1-12.wav',\n",
       " '\\\\176258-3-1-13.wav',\n",
       " '\\\\176258-3-1-18.wav',\n",
       " '\\\\176258-3-1-2.wav',\n",
       " '\\\\176638-1-0-0.wav',\n",
       " '\\\\176638-1-1-0.wav',\n",
       " '\\\\176714-2-0-18.wav',\n",
       " '\\\\176714-2-0-23.wav',\n",
       " '\\\\176714-2-0-26.wav',\n",
       " '\\\\176714-2-0-33.wav',\n",
       " '\\\\176714-2-0-40.wav',\n",
       " '\\\\176714-2-0-51.wav',\n",
       " '\\\\176714-2-0-55.wav',\n",
       " '\\\\176714-2-0-77.wav',\n",
       " '\\\\176787-5-0-0.wav',\n",
       " '\\\\176787-5-0-1.wav',\n",
       " '\\\\176787-5-0-10.wav',\n",
       " '\\\\176787-5-0-11.wav',\n",
       " '\\\\176787-5-0-12.wav',\n",
       " '\\\\176787-5-0-13.wav',\n",
       " '\\\\176787-5-0-14.wav',\n",
       " '\\\\176787-5-0-15.wav',\n",
       " '\\\\176787-5-0-16.wav',\n",
       " '\\\\176787-5-0-17.wav',\n",
       " '\\\\176787-5-0-18.wav',\n",
       " '\\\\176787-5-0-19.wav',\n",
       " '\\\\176787-5-0-2.wav',\n",
       " '\\\\176787-5-0-20.wav',\n",
       " '\\\\176787-5-0-21.wav',\n",
       " '\\\\176787-5-0-22.wav',\n",
       " '\\\\176787-5-0-23.wav',\n",
       " '\\\\176787-5-0-24.wav',\n",
       " '\\\\176787-5-0-25.wav',\n",
       " '\\\\176787-5-0-26.wav',\n",
       " '\\\\176787-5-0-27.wav',\n",
       " '\\\\176787-5-0-28.wav',\n",
       " '\\\\176787-5-0-29.wav',\n",
       " '\\\\176787-5-0-3.wav',\n",
       " '\\\\176787-5-0-30.wav',\n",
       " '\\\\176787-5-0-4.wav',\n",
       " '\\\\176787-5-0-5.wav',\n",
       " '\\\\176787-5-0-6.wav',\n",
       " '\\\\176787-5-0-7.wav',\n",
       " '\\\\176787-5-0-8.wav',\n",
       " '\\\\176787-5-0-9.wav',\n",
       " '\\\\177621-0-0-0.wav',\n",
       " '\\\\177621-0-0-100.wav',\n",
       " '\\\\177621-0-0-104.wav',\n",
       " '\\\\177621-0-0-105.wav',\n",
       " '\\\\177621-0-0-109.wav',\n",
       " '\\\\177621-0-0-117.wav',\n",
       " '\\\\177621-0-0-120.wav',\n",
       " '\\\\177621-0-0-126.wav',\n",
       " '\\\\177621-0-0-127.wav',\n",
       " '\\\\177621-0-0-128.wav',\n",
       " '\\\\177621-0-0-145.wav',\n",
       " '\\\\177621-0-0-147.wav',\n",
       " '\\\\177621-0-0-2.wav',\n",
       " '\\\\177621-0-0-27.wav',\n",
       " '\\\\177621-0-0-31.wav',\n",
       " '\\\\177621-0-0-35.wav',\n",
       " '\\\\177621-0-0-46.wav',\n",
       " '\\\\177621-0-0-47.wav',\n",
       " '\\\\177621-0-0-48.wav',\n",
       " '\\\\177621-0-0-54.wav',\n",
       " '\\\\177621-0-0-57.wav',\n",
       " '\\\\177621-0-0-80.wav',\n",
       " '\\\\177621-0-0-88.wav',\n",
       " '\\\\177621-0-0-91.wav',\n",
       " '\\\\177621-0-0-93.wav',\n",
       " '\\\\17913-4-0-0.wav',\n",
       " '\\\\17913-4-0-1.wav',\n",
       " '\\\\17913-4-0-2.wav',\n",
       " '\\\\17913-4-1-0.wav',\n",
       " '\\\\17913-4-2-0.wav',\n",
       " '\\\\179858-1-0-0.wav',\n",
       " '\\\\179867-1-0-0.wav',\n",
       " '\\\\180256-3-0-0.wav',\n",
       " '\\\\180256-3-0-1.wav',\n",
       " '\\\\180256-3-0-2.wav',\n",
       " '\\\\180256-3-0-3.wav',\n",
       " '\\\\180937-7-0-0.wav',\n",
       " '\\\\180937-7-0-1.wav',\n",
       " '\\\\180937-7-0-2.wav',\n",
       " '\\\\180937-7-0-4.wav',\n",
       " '\\\\180937-7-0-5.wav',\n",
       " '\\\\180937-7-0-6.wav',\n",
       " '\\\\180937-7-1-0.wav',\n",
       " '\\\\180937-7-1-1.wav',\n",
       " '\\\\180937-7-1-10.wav',\n",
       " '\\\\180937-7-1-11.wav',\n",
       " '\\\\180937-7-1-12.wav',\n",
       " '\\\\180937-7-1-13.wav',\n",
       " '\\\\180937-7-1-14.wav',\n",
       " '\\\\180937-7-1-15.wav',\n",
       " '\\\\180937-7-1-2.wav',\n",
       " '\\\\180937-7-1-3.wav',\n",
       " '\\\\180937-7-1-4.wav',\n",
       " '\\\\180937-7-1-5.wav',\n",
       " '\\\\180937-7-1-6.wav',\n",
       " '\\\\180937-7-1-7.wav',\n",
       " '\\\\180937-7-1-8.wav',\n",
       " '\\\\180937-7-1-9.wav',\n",
       " '\\\\180937-7-2-0.wav',\n",
       " '\\\\180937-7-2-1.wav',\n",
       " '\\\\180937-7-2-10.wav',\n",
       " '\\\\180937-7-2-2.wav',\n",
       " '\\\\180937-7-2-3.wav',\n",
       " '\\\\180937-7-2-4.wav',\n",
       " '\\\\180937-7-2-5.wav',\n",
       " '\\\\180937-7-2-6.wav',\n",
       " '\\\\180937-7-2-7.wav',\n",
       " '\\\\180937-7-2-8.wav',\n",
       " '\\\\180937-7-2-9.wav',\n",
       " '\\\\180937-7-3-0.wav',\n",
       " '\\\\180937-7-3-1.wav',\n",
       " '\\\\180937-7-3-10.wav',\n",
       " '\\\\180937-7-3-11.wav',\n",
       " '\\\\180937-7-3-12.wav',\n",
       " '\\\\180937-7-3-13.wav',\n",
       " '\\\\180937-7-3-14.wav',\n",
       " '\\\\180937-7-3-15.wav',\n",
       " '\\\\180937-7-3-17.wav',\n",
       " '\\\\180937-7-3-18.wav',\n",
       " '\\\\180937-7-3-19.wav',\n",
       " '\\\\180937-7-3-2.wav',\n",
       " '\\\\180937-7-3-20.wav',\n",
       " '\\\\180937-7-3-21.wav',\n",
       " '\\\\180937-7-3-22.wav',\n",
       " '\\\\180937-7-3-23.wav',\n",
       " '\\\\180937-7-3-24.wav',\n",
       " '\\\\180937-7-3-26.wav',\n",
       " '\\\\180937-7-3-27.wav',\n",
       " '\\\\180937-7-3-28.wav',\n",
       " '\\\\180937-7-3-29.wav',\n",
       " '\\\\180937-7-3-3.wav',\n",
       " '\\\\180937-7-3-30.wav',\n",
       " '\\\\180937-7-3-31.wav',\n",
       " '\\\\180937-7-3-32.wav',\n",
       " '\\\\180937-7-3-33.wav',\n",
       " '\\\\180937-7-3-4.wav',\n",
       " '\\\\180937-7-3-5.wav',\n",
       " '\\\\180937-7-3-6.wav',\n",
       " '\\\\180937-7-3-7.wav',\n",
       " '\\\\180937-7-3-8.wav',\n",
       " '\\\\180937-7-3-9.wav',\n",
       " '\\\\180937-7-4-0.wav',\n",
       " '\\\\180937-7-4-10.wav',\n",
       " '\\\\180937-7-4-11.wav',\n",
       " '\\\\180937-7-4-12.wav',\n",
       " '\\\\180937-7-4-13.wav',\n",
       " '\\\\180937-7-4-14.wav',\n",
       " '\\\\180937-7-4-2.wav',\n",
       " '\\\\180937-7-4-3.wav',\n",
       " '\\\\180937-7-4-4.wav',\n",
       " '\\\\180937-7-4-5.wav',\n",
       " '\\\\180937-7-4-6.wav',\n",
       " '\\\\180937-7-4-7.wav',\n",
       " '\\\\180937-7-4-8.wav',\n",
       " '\\\\180937-7-4-9.wav',\n",
       " '\\\\182800-2-0-0.wav',\n",
       " '\\\\182800-2-1-0.wav',\n",
       " '\\\\182800-2-2-0.wav',\n",
       " '\\\\182800-2-2-1.wav',\n",
       " '\\\\182800-2-2-2.wav',\n",
       " '\\\\182800-2-2-3.wav',\n",
       " '\\\\182800-2-3-0.wav',\n",
       " '\\\\182800-2-3-1.wav',\n",
       " '\\\\184355-1-0-0.wav',\n",
       " '\\\\19026-1-0-0.wav',\n",
       " '\\\\191431-9-0-26.wav',\n",
       " '\\\\191431-9-0-30.wav',\n",
       " '\\\\191431-9-0-61.wav',\n",
       " '\\\\191431-9-0-66.wav',\n",
       " '\\\\191431-9-0-73.wav',\n",
       " '\\\\191431-9-0-8.wav',\n",
       " '\\\\192124-2-0-0.wav',\n",
       " '\\\\192124-2-0-11.wav',\n",
       " '\\\\192124-2-0-12.wav',\n",
       " '\\\\192124-2-0-15.wav',\n",
       " '\\\\192124-2-0-3.wav',\n",
       " '\\\\192124-2-0-4.wav',\n",
       " '\\\\192124-2-0-5.wav',\n",
       " '\\\\192124-2-0-7.wav',\n",
       " '\\\\193394-3-0-10.wav',\n",
       " '\\\\193394-3-0-11.wav',\n",
       " '\\\\193394-3-0-4.wav',\n",
       " '\\\\193394-3-0-7.wav',\n",
       " '\\\\193698-2-0-112.wav',\n",
       " '\\\\193698-2-0-113.wav',\n",
       " '\\\\193698-2-0-114.wav',\n",
       " '\\\\193698-2-0-140.wav',\n",
       " '\\\\193698-2-0-42.wav',\n",
       " '\\\\193698-2-0-58.wav',\n",
       " '\\\\193698-2-0-64.wav',\n",
       " '\\\\193698-2-0-89.wav',\n",
       " '\\\\194732-9-0-126.wav',\n",
       " '\\\\194732-9-0-163.wav',\n",
       " '\\\\194732-9-0-171.wav',\n",
       " '\\\\194732-9-0-175.wav',\n",
       " '\\\\194732-9-0-191.wav',\n",
       " '\\\\194732-9-0-41.wav',\n",
       " '\\\\194732-9-0-95.wav',\n",
       " '\\\\196065-2-0-0.wav',\n",
       " '\\\\196079-2-0-0.wav',\n",
       " '\\\\196087-2-0-0.wav',\n",
       " '\\\\196400-6-0-0.wav',\n",
       " '\\\\197073-3-0-0.wav',\n",
       " '\\\\197073-3-3-0.wav',\n",
       " '\\\\197073-3-4-3.wav',\n",
       " '\\\\197073-3-7-0.wav',\n",
       " '\\\\197318-6-0-0.wav',\n",
       " '\\\\197318-6-1-0.wav',\n",
       " '\\\\197318-6-10-0.wav',\n",
       " '\\\\197318-6-11-0.wav',\n",
       " '\\\\197318-6-12-0.wav',\n",
       " '\\\\197318-6-2-0.wav',\n",
       " '\\\\197318-6-3-0.wav',\n",
       " '\\\\197318-6-4-0.wav',\n",
       " '\\\\197318-6-5-0.wav',\n",
       " '\\\\197318-6-6-0.wav',\n",
       " '\\\\197318-6-7-0.wav',\n",
       " '\\\\197318-6-8-0.wav',\n",
       " '\\\\197318-6-9-0.wav',\n",
       " '\\\\203356-3-0-0.wav',\n",
       " '\\\\203356-3-0-1.wav',\n",
       " '\\\\203356-3-0-2.wav',\n",
       " '\\\\203356-3-0-3.wav',\n",
       " '\\\\203440-3-0-0.wav',\n",
       " '\\\\203440-3-0-1.wav',\n",
       " '\\\\203440-3-0-5.wav',\n",
       " '\\\\203440-3-0-6.wav',\n",
       " '\\\\21684-9-0-12.wav',\n",
       " '\\\\21684-9-0-25.wav',\n",
       " '\\\\21684-9-0-30.wav',\n",
       " '\\\\21684-9-0-39.wav',\n",
       " '\\\\21684-9-0-5.wav',\n",
       " '\\\\21684-9-0-50.wav',\n",
       " '\\\\21684-9-0-7.wav',\n",
       " '\\\\22962-4-0-0.wav',\n",
       " '\\\\22962-4-0-1.wav',\n",
       " '\\\\22962-4-0-2.wav',\n",
       " '\\\\24074-1-0-0.wav',\n",
       " '\\\\24074-1-0-1.wav',\n",
       " '\\\\24074-1-0-10.wav',\n",
       " '\\\\24074-1-0-11.wav',\n",
       " '\\\\24074-1-0-12.wav',\n",
       " '\\\\24074-1-0-13.wav',\n",
       " '\\\\24074-1-0-2.wav',\n",
       " '\\\\24074-1-0-3.wav',\n",
       " '\\\\24074-1-0-4.wav',\n",
       " '\\\\24074-1-0-5.wav',\n",
       " '\\\\24074-1-0-6.wav',\n",
       " '\\\\24074-1-0-7.wav',\n",
       " '\\\\24074-1-0-8.wav',\n",
       " '\\\\24074-1-0-9.wav',\n",
       " '\\\\26270-9-0-19.wav',\n",
       " '\\\\26270-9-0-23.wav',\n",
       " '\\\\26270-9-0-3.wav',\n",
       " '\\\\26270-9-0-30.wav',\n",
       " '\\\\26270-9-0-32.wav',\n",
       " '\\\\26270-9-0-35.wav',\n",
       " '\\\\30823-8-0-0.wav',\n",
       " '\\\\31323-3-0-1.wav',\n",
       " '\\\\31323-3-0-2.wav',\n",
       " '\\\\31323-3-0-20.wav',\n",
       " '\\\\31323-3-0-22.wav',\n",
       " '\\\\31840-3-0-0.wav',\n",
       " '\\\\31840-3-1-0.wav',\n",
       " '\\\\40722-8-0-0.wav',\n",
       " '\\\\40722-8-0-1.wav',\n",
       " '\\\\40722-8-0-2.wav',\n",
       " '\\\\40722-8-0-3.wav',\n",
       " '\\\\40722-8-0-4.wav',\n",
       " '\\\\40722-8-0-5.wav',\n",
       " '\\\\40722-8-0-6.wav',\n",
       " '\\\\40722-8-0-7.wav',\n",
       " '\\\\40722-8-0-8.wav',\n",
       " '\\\\43786-3-0-0.wav',\n",
       " '\\\\43786-3-1-0.wav',\n",
       " '\\\\43806-8-0-0.wav',\n",
       " '\\\\44736-5-0-0.wav',\n",
       " '\\\\44736-5-0-1.wav',\n",
       " '\\\\46654-6-0-0.wav',\n",
       " '\\\\46656-6-0-0.wav',\n",
       " '\\\\46656-6-1-0.wav',\n",
       " '\\\\46656-6-2-0.wav',\n",
       " '\\\\46656-6-3-0.wav',\n",
       " '\\\\46656-6-4-0.wav',\n",
       " '\\\\46656-6-5-0.wav',\n",
       " '\\\\46669-4-0-0.wav',\n",
       " '\\\\46669-4-0-10.wav',\n",
       " '\\\\46669-4-0-2.wav',\n",
       " '\\\\46669-4-0-24.wav',\n",
       " '\\\\46669-4-0-26.wav',\n",
       " '\\\\46669-4-0-3.wav',\n",
       " '\\\\46669-4-0-30.wav',\n",
       " '\\\\46669-4-0-31.wav',\n",
       " '\\\\46669-4-0-32.wav',\n",
       " '\\\\46669-4-0-33.wav',\n",
       " '\\\\46669-4-0-35.wav',\n",
       " '\\\\46669-4-0-36.wav',\n",
       " '\\\\46669-4-0-37.wav',\n",
       " '\\\\46669-4-0-39.wav',\n",
       " '\\\\46669-4-0-4.wav',\n",
       " '\\\\46669-4-0-45.wav',\n",
       " '\\\\46669-4-0-48.wav',\n",
       " '\\\\46669-4-0-49.wav',\n",
       " '\\\\46669-4-0-54.wav',\n",
       " '\\\\46669-4-0-61.wav',\n",
       " '\\\\46669-4-0-63.wav',\n",
       " '\\\\46669-4-0-8.wav',\n",
       " '\\\\46669-4-0-9.wav',\n",
       " '\\\\46918-5-0-0.wav',\n",
       " '\\\\46918-5-0-1.wav',\n",
       " '\\\\46918-5-0-2.wav',\n",
       " '\\\\50901-0-0-0.wav',\n",
       " '\\\\50901-0-1-0.wav',\n",
       " '\\\\50901-0-1-1.wav',\n",
       " '\\\\51022-3-13-0.wav',\n",
       " '\\\\51022-3-29-0.wav',\n",
       " '\\\\51022-3-30-4.wav',\n",
       " '\\\\51022-3-7-0.wav',\n",
       " '\\\\54858-3-0-0.wav',\n",
       " '\\\\54858-3-1-2.wav',\n",
       " '\\\\54858-3-2-0.wav',\n",
       " '\\\\55020-4-0-0.wav',\n",
       " '\\\\55020-4-0-1.wav',\n",
       " '\\\\55020-4-0-10.wav',\n",
       " '\\\\55020-4-0-11.wav',\n",
       " '\\\\55020-4-0-12.wav',\n",
       " '\\\\55020-4-0-13.wav',\n",
       " '\\\\55020-4-0-14.wav',\n",
       " '\\\\55020-4-0-2.wav',\n",
       " '\\\\55020-4-0-3.wav',\n",
       " '\\\\55020-4-0-4.wav',\n",
       " '\\\\55020-4-0-5.wav',\n",
       " '\\\\55020-4-0-6.wav',\n",
       " '\\\\55020-4-0-7.wav',\n",
       " '\\\\55020-4-0-8.wav',\n",
       " '\\\\55020-4-0-9.wav',\n",
       " '\\\\57320-0-0-0.wav',\n",
       " '\\\\57320-0-0-10.wav',\n",
       " '\\\\57320-0-0-11.wav',\n",
       " '\\\\57320-0-0-13.wav',\n",
       " '\\\\57320-0-0-15.wav',\n",
       " '\\\\57320-0-0-21.wav',\n",
       " '\\\\57320-0-0-22.wav',\n",
       " '\\\\57320-0-0-24.wav',\n",
       " '\\\\57320-0-0-27.wav',\n",
       " '\\\\57320-0-0-31.wav',\n",
       " '\\\\57320-0-0-32.wav',\n",
       " '\\\\57320-0-0-33.wav',\n",
       " '\\\\57320-0-0-34.wav',\n",
       " '\\\\57320-0-0-36.wav',\n",
       " '\\\\57320-0-0-37.wav',\n",
       " '\\\\57320-0-0-38.wav',\n",
       " '\\\\57320-0-0-39.wav',\n",
       " '\\\\57320-0-0-4.wav',\n",
       " '\\\\57320-0-0-42.wav',\n",
       " '\\\\57320-0-0-45.wav',\n",
       " '\\\\57320-0-0-5.wav',\n",
       " '\\\\57320-0-0-6.wav',\n",
       " '\\\\57320-0-0-7.wav',\n",
       " '\\\\57320-0-0-9.wav',\n",
       " '\\\\57553-3-0-0.wav',\n",
       " '\\\\57553-3-1-0.wav',\n",
       " '\\\\57553-3-2-0.wav',\n",
       " '\\\\57584-4-0-0.wav',\n",
       " '\\\\57584-4-0-1.wav',\n",
       " '\\\\57584-4-0-2.wav',\n",
       " '\\\\57584-4-0-3.wav',\n",
       " '\\\\57584-4-0-4.wav',\n",
       " '\\\\57584-4-0-5.wav',\n",
       " '\\\\57584-4-0-6.wav',\n",
       " '\\\\57584-4-0-7.wav',\n",
       " '\\\\57584-4-0-8.wav',\n",
       " '\\\\59277-0-0-0.wav',\n",
       " '\\\\59277-0-0-1.wav',\n",
       " '\\\\59277-0-0-2.wav',\n",
       " '\\\\59277-0-0-3.wav',\n",
       " '\\\\59277-0-0-4.wav',\n",
       " '\\\\59277-0-0-5.wav',\n",
       " '\\\\59277-0-0-6.wav',\n",
       " '\\\\59277-0-0-7.wav',\n",
       " '\\\\65749-3-1-12.wav',\n",
       " '\\\\65749-3-1-14.wav',\n",
       " '\\\\65749-3-1-24.wav',\n",
       " '\\\\65749-3-1-9.wav',\n",
       " '\\\\69304-9-0-0.wav',\n",
       " '\\\\69304-9-0-12.wav',\n",
       " '\\\\69304-9-0-14.wav',\n",
       " '\\\\69304-9-0-15.wav',\n",
       " '\\\\69304-9-0-6.wav',\n",
       " '\\\\69304-9-0-7.wav',\n",
       " '\\\\7061-6-0-0.wav',\n",
       " '\\\\71087-4-0-0.wav',\n",
       " '\\\\71087-4-1-0.wav',\n",
       " '\\\\72261-3-0-17.wav',\n",
       " '\\\\72261-3-0-23.wav',\n",
       " '\\\\72261-3-0-27.wav',\n",
       " '\\\\72261-3-0-6.wav',\n",
       " '\\\\72579-3-0-0.wav',\n",
       " '\\\\72579-3-0-2.wav',\n",
       " '\\\\72579-3-0-3.wav',\n",
       " '\\\\72579-3-0-4.wav',\n",
       " '\\\\73277-9-0-0.wav',\n",
       " '\\\\73277-9-0-16.wav',\n",
       " '\\\\73277-9-0-17.wav',\n",
       " '\\\\73277-9-0-19.wav',\n",
       " '\\\\73277-9-0-24.wav',\n",
       " '\\\\73277-9-0-28.wav',\n",
       " '\\\\7383-3-0-0.wav',\n",
       " '\\\\7383-3-0-1.wav',\n",
       " '\\\\7383-3-1-0.wav',\n",
       " '\\\\76093-6-0-0.wav',\n",
       " '\\\\76093-6-1-0.wav',\n",
       " '\\\\77246-6-0-0.wav',\n",
       " '\\\\77766-9-0-0.wav',\n",
       " '\\\\77766-9-0-3.wav',\n",
       " '\\\\77766-9-0-4.wav',\n",
       " '\\\\77766-9-0-5.wav',\n",
       " '\\\\77766-9-0-6.wav',\n",
       " '\\\\77766-9-0-7.wav',\n",
       " '\\\\78360-4-0-0.wav',\n",
       " '\\\\78360-4-0-1.wav',\n",
       " '\\\\78360-4-0-11.wav',\n",
       " '\\\\78360-4-0-12.wav',\n",
       " '\\\\78360-4-0-14.wav',\n",
       " '\\\\78360-4-0-15.wav',\n",
       " '\\\\78360-4-0-16.wav',\n",
       " '\\\\78360-4-0-17.wav',\n",
       " '\\\\78360-4-0-18.wav',\n",
       " '\\\\78360-4-0-19.wav',\n",
       " '\\\\78360-4-0-2.wav',\n",
       " '\\\\78360-4-0-20.wav',\n",
       " '\\\\78360-4-0-21.wav',\n",
       " '\\\\78360-4-0-22.wav',\n",
       " '\\\\78360-4-0-23.wav',\n",
       " '\\\\78360-4-0-3.wav',\n",
       " '\\\\78360-4-0-4.wav',\n",
       " '\\\\78360-4-0-5.wav',\n",
       " '\\\\78360-4-0-6.wav',\n",
       " '\\\\78360-4-0-7.wav',\n",
       " '\\\\78360-4-0-8.wav',\n",
       " '\\\\78360-4-0-9.wav',\n",
       " '\\\\83199-9-0-0.wav',\n",
       " '\\\\86278-6-0-0.wav',\n",
       " '\\\\86279-3-0-0.wav',\n",
       " '\\\\87275-1-0-0.wav',\n",
       " '\\\\87275-1-1-0.wav',\n",
       " '\\\\87275-1-2-0.wav',\n",
       " '\\\\87275-1-3-0.wav',\n",
       " '\\\\87275-1-4-0.wav',\n",
       " '\\\\87275-1-5-0.wav',\n",
       " '\\\\88466-7-0-0.wav',\n",
       " '\\\\89212-3-0-0.wav',\n",
       " '\\\\89948-5-0-0.wav',\n",
       " '\\\\9031-3-1-0.wav',\n",
       " '\\\\9031-3-2-0.wav',\n",
       " '\\\\9031-3-3-0.wav',\n",
       " '\\\\9031-3-4-0.wav',\n",
       " '\\\\94868-1-0-0.wav',\n",
       " '\\\\94868-1-1-0.wav',\n",
       " '\\\\94868-1-2-0.wav',\n",
       " '\\\\96158-4-0-0.wav',\n",
       " '\\\\97317-2-0-22.wav',\n",
       " '\\\\97317-2-0-23.wav',\n",
       " '\\\\97317-2-0-25.wav',\n",
       " '\\\\97317-2-0-28.wav',\n",
       " '\\\\97317-2-0-34.wav',\n",
       " '\\\\97317-2-0-36.wav',\n",
       " '\\\\97317-2-0-5.wav',\n",
       " '\\\\98223-7-0-0.wav',\n",
       " '\\\\98223-7-1-0.wav',\n",
       " '\\\\98223-7-10-0.wav',\n",
       " '\\\\98223-7-2-0.wav',\n",
       " '\\\\98223-7-3-0.wav',\n",
       " '\\\\98223-7-4-0.wav',\n",
       " '\\\\98223-7-5-0.wav',\n",
       " '\\\\98223-7-6-0.wav',\n",
       " '\\\\98223-7-7-0.wav',\n",
       " '\\\\98223-7-8-0.wav',\n",
       " '\\\\98223-7-9-0.wav',\n",
       " '\\\\99180-9-0-0.wav',\n",
       " '\\\\99180-9-0-2.wav',\n",
       " '\\\\99180-9-0-36.wav',\n",
       " '\\\\99180-9-0-48.wav',\n",
       " '\\\\99180-9-0-49.wav',\n",
       " '\\\\99180-9-0-7.wav',\n",
       " '\\\\100652-3-0-0.wav',\n",
       " '\\\\100652-3-0-1.wav',\n",
       " '\\\\100652-3-0-2.wav',\n",
       " '\\\\100652-3-0-3.wav',\n",
       " '\\\\102104-3-0-0.wav',\n",
       " '\\\\102858-5-0-0.wav',\n",
       " '\\\\102858-5-0-1.wav',\n",
       " '\\\\102871-8-0-0.wav',\n",
       " '\\\\102871-8-0-1.wav',\n",
       " '\\\\102871-8-0-10.wav',\n",
       " '\\\\102871-8-0-11.wav',\n",
       " '\\\\102871-8-0-12.wav',\n",
       " '\\\\102871-8-0-13.wav',\n",
       " '\\\\102871-8-0-14.wav',\n",
       " '\\\\102871-8-0-15.wav',\n",
       " '\\\\102871-8-0-2.wav',\n",
       " '\\\\102871-8-0-3.wav',\n",
       " '\\\\102871-8-0-4.wav',\n",
       " '\\\\102871-8-0-5.wav',\n",
       " '\\\\102871-8-0-6.wav',\n",
       " '\\\\102871-8-0-7.wav',\n",
       " '\\\\102871-8-0-8.wav',\n",
       " '\\\\102871-8-0-9.wav',\n",
       " '\\\\104817-4-0-0.wav',\n",
       " '\\\\104817-4-0-1.wav',\n",
       " '\\\\104817-4-0-10.wav',\n",
       " '\\\\104817-4-0-11.wav',\n",
       " '\\\\104817-4-0-2.wav',\n",
       " '\\\\104817-4-0-3.wav',\n",
       " '\\\\104817-4-0-4.wav',\n",
       " '\\\\104817-4-0-5.wav',\n",
       " '\\\\104817-4-0-6.wav',\n",
       " '\\\\104817-4-0-7.wav',\n",
       " '\\\\104817-4-0-8.wav',\n",
       " '\\\\104817-4-0-9.wav',\n",
       " '\\\\106015-5-0-0.wav',\n",
       " '\\\\106015-5-0-1.wav',\n",
       " '\\\\106015-5-0-10.wav',\n",
       " '\\\\106015-5-0-11.wav',\n",
       " '\\\\106015-5-0-12.wav',\n",
       " '\\\\106015-5-0-13.wav',\n",
       " '\\\\106015-5-0-14.wav',\n",
       " '\\\\106015-5-0-15.wav',\n",
       " '\\\\106015-5-0-16.wav',\n",
       " '\\\\106015-5-0-17.wav',\n",
       " '\\\\106015-5-0-18.wav',\n",
       " '\\\\106015-5-0-19.wav',\n",
       " '\\\\106015-5-0-2.wav',\n",
       " '\\\\106015-5-0-20.wav',\n",
       " '\\\\106015-5-0-3.wav',\n",
       " '\\\\106015-5-0-4.wav',\n",
       " '\\\\106015-5-0-5.wav',\n",
       " '\\\\106015-5-0-6.wav',\n",
       " '\\\\106015-5-0-7.wav',\n",
       " '\\\\106015-5-0-8.wav',\n",
       " '\\\\106015-5-0-9.wav',\n",
       " '\\\\108187-3-2-0.wav',\n",
       " '\\\\108187-3-3-0.wav',\n",
       " '\\\\108187-3-4-0.wav',\n",
       " '\\\\108187-3-6-0.wav',\n",
       " '\\\\109703-2-0-134.wav',\n",
       " '\\\\109703-2-0-14.wav',\n",
       " '\\\\109703-2-0-153.wav',\n",
       " '\\\\109703-2-0-29.wav',\n",
       " '\\\\109703-2-0-32.wav',\n",
       " '\\\\109703-2-0-48.wav',\n",
       " '\\\\109703-2-0-50.wav',\n",
       " '\\\\112195-3-0-38.wav',\n",
       " '\\\\112195-3-0-48.wav',\n",
       " '\\\\112195-3-0-57.wav',\n",
       " '\\\\112195-3-0-80.wav',\n",
       " '\\\\113201-5-0-0.wav',\n",
       " '\\\\113201-5-0-1.wav',\n",
       " '\\\\113201-5-0-2.wav',\n",
       " '\\\\113201-5-0-3.wav',\n",
       " '\\\\113201-5-0-4.wav',\n",
       " '\\\\113201-5-0-5.wav',\n",
       " '\\\\113201-5-0-6.wav',\n",
       " '\\\\113201-5-0-7.wav',\n",
       " '\\\\113785-3-0-0.wav',\n",
       " '\\\\113785-3-1-0.wav',\n",
       " '\\\\115537-3-0-0.wav',\n",
       " '\\\\118723-4-0-0.wav',\n",
       " '\\\\118962-3-0-0.wav',\n",
       " '\\\\123688-8-0-0.wav',\n",
       " '\\\\123688-8-0-1.wav',\n",
       " '\\\\123688-8-0-10.wav',\n",
       " '\\\\123688-8-0-11.wav',\n",
       " '\\\\123688-8-0-12.wav',\n",
       " '\\\\123688-8-0-13.wav',\n",
       " '\\\\123688-8-0-14.wav',\n",
       " '\\\\123688-8-0-15.wav',\n",
       " '\\\\123688-8-0-16.wav',\n",
       " '\\\\123688-8-0-17.wav',\n",
       " '\\\\123688-8-0-18.wav',\n",
       " '\\\\123688-8-0-2.wav',\n",
       " '\\\\123688-8-0-3.wav',\n",
       " '\\\\123688-8-0-4.wav',\n",
       " '\\\\123688-8-0-5.wav',\n",
       " '\\\\123688-8-0-6.wav',\n",
       " '\\\\123688-8-0-7.wav',\n",
       " '\\\\123688-8-0-8.wav',\n",
       " '\\\\123688-8-0-9.wav',\n",
       " '\\\\123688-8-1-0.wav',\n",
       " '\\\\123688-8-1-1.wav',\n",
       " '\\\\123688-8-1-2.wav',\n",
       " '\\\\123688-8-1-3.wav',\n",
       " '\\\\123688-8-1-4.wav',\n",
       " '\\\\123688-8-1-5.wav',\n",
       " '\\\\123688-8-2-0.wav',\n",
       " '\\\\123688-8-2-1.wav',\n",
       " '\\\\123688-8-2-2.wav',\n",
       " '\\\\123688-8-2-3.wav',\n",
       " '\\\\123688-8-2-4.wav',\n",
       " '\\\\127872-0-0-0.wav',\n",
       " '\\\\132073-1-0-0.wav',\n",
       " '\\\\132073-1-1-0.wav',\n",
       " '\\\\132073-1-2-0.wav',\n",
       " '\\\\132073-1-3-0.wav',\n",
       " '\\\\132073-1-4-0.wav',\n",
       " '\\\\132073-1-5-0.wav',\n",
       " '\\\\132073-1-6-0.wav',\n",
       " '\\\\14387-9-0-11.wav',\n",
       " '\\\\14387-9-0-12.wav',\n",
       " '\\\\14387-9-0-15.wav',\n",
       " '\\\\14387-9-0-16.wav',\n",
       " '\\\\14387-9-0-19.wav',\n",
       " ...]"
      ]
     },
     "execution_count": 29,
     "metadata": {},
     "output_type": "execute_result"
    }
   ],
   "source": [
    "file_names"
   ]
  },
  {
   "cell_type": "code",
   "execution_count": 36,
   "metadata": {},
   "outputs": [],
   "source": [
    "a = np.where(labels_arr==0)"
   ]
  },
  {
   "cell_type": "code",
   "execution_count": 37,
   "metadata": {},
   "outputs": [
    {
     "data": {
      "text/plain": [
       "1"
      ]
     },
     "execution_count": 37,
     "metadata": {},
     "output_type": "execute_result"
    }
   ],
   "source": [
    "len(a)"
   ]
  },
  {
   "cell_type": "code",
   "execution_count": 40,
   "metadata": {},
   "outputs": [
    {
     "data": {
      "text/plain": [
       "1005"
      ]
     },
     "execution_count": 40,
     "metadata": {},
     "output_type": "execute_result"
    }
   ],
   "source": [
    "len(a[0])"
   ]
  },
  {
   "cell_type": "code",
   "execution_count": 45,
   "metadata": {},
   "outputs": [
    {
     "data": {
      "text/plain": [
       "3"
      ]
     },
     "execution_count": 45,
     "metadata": {},
     "output_type": "execute_result"
    }
   ],
   "source": [
    "metadata[metadata['slice_file_name'] == '101415-3-0-3.wav']['classID'].values[0]"
   ]
  },
  {
   "cell_type": "code",
   "execution_count": 46,
   "metadata": {},
   "outputs": [],
   "source": [
    "import pickle\n",
    "\n",
    "# file_name = \"mfcc_all_folds\"\n",
    "# with open(file_name,'wb') as my_file_obj:\n",
    "#     pickle.dump(dataset_mfcc,my_file_obj)\n",
    "\n",
    "file_name = \"spec_data_v2\"\n",
    "with open(file_name,'wb') as my_file_obj:\n",
    "    pickle.dump(spec_data,my_file_obj)\n",
    "\n",
    "file_name = \"mfcc_data_v2\"\n",
    "with open(file_name,'wb') as my_file_obj:\n",
    "    pickle.dump(mfcc_data,my_file_obj)\n",
    "\n",
    "file_name = \"labels_v2\"\n",
    "with open(file_name,'wb') as my_file_obj:\n",
    "    pickle.dump(labels_arr,my_file_obj)\n",
    "\n",
    "file_name = \"fold_pointers_v2\"\n",
    "with open(file_name,'wb') as my_file_obj:\n",
    "    pickle.dump(pointers,my_file_obj)\n",
    "\n",
    "file_name = \"file_names\"\n",
    "with open(file_name,'wb') as my_file_obj:\n",
    "    pickle.dump(file_names,my_file_obj)\n",
    "\n",
    "# file_name = \"labels\"\n",
    "# with open(file_name,'wb') as my_file_obj:\n",
    "#     pickle.dump(labels_arr,my_file_obj)"
   ]
  },
  {
   "cell_type": "code",
   "execution_count": 16,
   "metadata": {},
   "outputs": [],
   "source": [
    "file_name = \"fold_pointers\"\n",
    "with open(file_name,'wb') as my_file_obj:\n",
    "    pickle.dump(fold_pointer,my_file_obj)"
   ]
  },
  {
   "cell_type": "code",
   "execution_count": null,
   "metadata": {},
   "outputs": [],
   "source": [
    "file_name = \"spec_data_reduced\"\n",
    "with open(file_name,'wb') as my_file_obj:\n",
    "    pickle.dump(spectrogram_dataset_reduced,my_file_obj)"
   ]
  },
  {
   "cell_type": "code",
   "execution_count": 16,
   "metadata": {},
   "outputs": [],
   "source": [
    "%store dataset_mfcc\n",
    "%store spectrogram_dataset\n",
    "%store labels_arr"
   ]
  },
  {
   "cell_type": "code",
   "execution_count": 17,
   "metadata": {},
   "outputs": [
    {
     "data": {
      "text/plain": [
       "[873, 1761, 2686, 3676, 4611, 5434, 6272, 7071, 7887, 8724]"
      ]
     },
     "execution_count": 17,
     "metadata": {},
     "output_type": "execute_result"
    }
   ],
   "source": [
    "fold_pointer"
   ]
  },
  {
   "cell_type": "code",
   "execution_count": 13,
   "metadata": {},
   "outputs": [
    {
     "data": {
      "text/plain": [
       "8724"
      ]
     },
     "execution_count": 13,
     "metadata": {},
     "output_type": "execute_result"
    }
   ],
   "source": [
    "len(labels_arr)"
   ]
  },
  {
   "cell_type": "code",
   "execution_count": 18,
   "metadata": {},
   "outputs": [
    {
     "name": "stdout",
     "output_type": "stream",
     "text": [
      "[[1.62045122e-03 1.04087824e-03 7.42838602e-04 ... 1.64337771e-03\n",
      "  1.74021779e-03 2.52421945e-02]\n",
      " [1.29725672e-02 2.42544711e-02 2.27362942e-02 ... 1.33881420e-02\n",
      "  5.97668393e-03 4.03967723e-02]\n",
      " [7.78450370e-02 9.59070101e-02 1.76068082e-01 ... 2.14531403e-02\n",
      "  1.14658279e-02 2.72519682e-02]\n",
      " ...\n",
      " [1.69448307e-04 3.64821870e-04 4.56691720e-04 ... 9.23321873e-04\n",
      "  5.83736284e-04 4.77086985e-04]\n",
      " [3.62339706e-05 5.34468491e-05 4.79046939e-05 ... 1.76004527e-04\n",
      "  1.13224414e-04 1.25627761e-04]\n",
      " [1.47468973e-05 6.77283879e-06 3.51375706e-06 ... 4.77120848e-05\n",
      "  4.67276986e-05 6.37895719e-05]]\n",
      "[[4.48685745e-03 1.42953452e-03 5.50346795e-06 ... 7.18496667e-05\n",
      "  3.00365908e-04 4.89348080e-03]\n",
      " [5.88603504e-03 2.01536808e-03 2.86376569e-04 ... 2.40471377e-03\n",
      "  1.31271372e-03 6.76575629e-03]\n",
      " [8.14870279e-03 7.49719422e-03 3.05390870e-03 ... 1.41057502e-02\n",
      "  1.17789069e-02 7.62809115e-03]\n",
      " ...\n",
      " [3.31137599e-05 6.42000887e-05 2.27977667e-04 ... 5.42635371e-06\n",
      "  3.46102343e-06 8.43918770e-06]\n",
      " [2.29900470e-05 2.20254806e-05 1.66288810e-05 ... 3.14958902e-06\n",
      "  3.70091561e-06 1.20857339e-05]\n",
      " [2.60089619e-05 1.43086590e-05 7.28803752e-06 ... 1.56546571e-06\n",
      "  1.94382710e-06 8.83742086e-06]]\n",
      "[[0. 0. 0. ... 0. 0. 0.]\n",
      " [0. 0. 0. ... 0. 0. 0.]\n",
      " [0. 0. 0. ... 0. 0. 0.]\n",
      " ...\n",
      " [0. 0. 0. ... 0. 0. 0.]\n",
      " [0. 0. 0. ... 0. 0. 0.]\n",
      " [0. 0. 0. ... 0. 0. 0.]]\n",
      "[[0. 0. 0. ... 0. 0. 0.]\n",
      " [0. 0. 0. ... 0. 0. 0.]\n",
      " [0. 0. 0. ... 0. 0. 0.]\n",
      " ...\n",
      " [0. 0. 0. ... 0. 0. 0.]\n",
      " [0. 0. 0. ... 0. 0. 0.]\n",
      " [0. 0. 0. ... 0. 0. 0.]]\n",
      "[[0. 0. 0. ... 0. 0. 0.]\n",
      " [0. 0. 0. ... 0. 0. 0.]\n",
      " [0. 0. 0. ... 0. 0. 0.]\n",
      " ...\n",
      " [0. 0. 0. ... 0. 0. 0.]\n",
      " [0. 0. 0. ... 0. 0. 0.]\n",
      " [0. 0. 0. ... 0. 0. 0.]]\n",
      "[[0. 0. 0. ... 0. 0. 0.]\n",
      " [0. 0. 0. ... 0. 0. 0.]\n",
      " [0. 0. 0. ... 0. 0. 0.]\n",
      " ...\n",
      " [0. 0. 0. ... 0. 0. 0.]\n",
      " [0. 0. 0. ... 0. 0. 0.]\n",
      " [0. 0. 0. ... 0. 0. 0.]]\n",
      "[[0. 0. 0. ... 0. 0. 0.]\n",
      " [0. 0. 0. ... 0. 0. 0.]\n",
      " [0. 0. 0. ... 0. 0. 0.]\n",
      " ...\n",
      " [0. 0. 0. ... 0. 0. 0.]\n",
      " [0. 0. 0. ... 0. 0. 0.]\n",
      " [0. 0. 0. ... 0. 0. 0.]]\n"
     ]
    }
   ],
   "source": [
    "for i in range(8722, 8729):\n",
    "    print(spectrogram_dataset[i])"
   ]
  },
  {
   "cell_type": "code",
   "execution_count": 14,
   "metadata": {},
   "outputs": [
    {
     "data": {
      "text/plain": [
       "8730"
      ]
     },
     "execution_count": 14,
     "metadata": {},
     "output_type": "execute_result"
    }
   ],
   "source": [
    "len(dataset_mfcc)"
   ]
  },
  {
   "cell_type": "code",
   "execution_count": 19,
   "metadata": {},
   "outputs": [
    {
     "data": {
      "text/plain": [
       "8724"
      ]
     },
     "execution_count": 19,
     "metadata": {},
     "output_type": "execute_result"
    }
   ],
   "source": [
    "len(labels_arr)"
   ]
  },
  {
   "cell_type": "code",
   "execution_count": 12,
   "metadata": {},
   "outputs": [
    {
     "data": {
      "text/plain": [
       "array([[4.48685745e-03, 1.42953452e-03, 5.50346795e-06, ...,\n",
       "        7.18496667e-05, 3.00365908e-04, 4.89348080e-03],\n",
       "       [5.88603504e-03, 2.01536808e-03, 2.86376569e-04, ...,\n",
       "        2.40471377e-03, 1.31271372e-03, 6.76575629e-03],\n",
       "       [8.14870279e-03, 7.49719422e-03, 3.05390870e-03, ...,\n",
       "        1.41057502e-02, 1.17789069e-02, 7.62809115e-03],\n",
       "       ...,\n",
       "       [3.31137599e-05, 6.42000887e-05, 2.27977667e-04, ...,\n",
       "        5.42635371e-06, 3.46102343e-06, 8.43918770e-06],\n",
       "       [2.29900470e-05, 2.20254806e-05, 1.66288810e-05, ...,\n",
       "        3.14958902e-06, 3.70091561e-06, 1.20857339e-05],\n",
       "       [2.60089619e-05, 1.43086590e-05, 7.28803752e-06, ...,\n",
       "        1.56546571e-06, 1.94382710e-06, 8.83742086e-06]])"
      ]
     },
     "execution_count": 12,
     "metadata": {},
     "output_type": "execute_result"
    }
   ],
   "source": [
    "spectrogram_dataset[8723]"
   ]
  },
  {
   "cell_type": "code",
   "execution_count": 9,
   "metadata": {},
   "outputs": [
    {
     "data": {
      "text/plain": [
       "8730"
      ]
     },
     "execution_count": 9,
     "metadata": {},
     "output_type": "execute_result"
    }
   ],
   "source": [
    "len(dataset_mfcc)"
   ]
  },
  {
   "cell_type": "code",
   "execution_count": 11,
   "metadata": {},
   "outputs": [
    {
     "data": {
      "text/plain": [
       "array([[0., 0., 0., ..., 0., 0., 0.],\n",
       "       [0., 0., 0., ..., 0., 0., 0.],\n",
       "       [0., 0., 0., ..., 0., 0., 0.],\n",
       "       ...,\n",
       "       [0., 0., 0., ..., 0., 0., 0.],\n",
       "       [0., 0., 0., ..., 0., 0., 0.],\n",
       "       [0., 0., 0., ..., 0., 0., 0.]])"
      ]
     },
     "execution_count": 11,
     "metadata": {},
     "output_type": "execute_result"
    }
   ],
   "source": [
    "spectrogram_dataset[8000]"
   ]
  },
  {
   "cell_type": "code",
   "execution_count": 8,
   "metadata": {},
   "outputs": [
    {
     "data": {
      "text/html": [
       "<div>\n",
       "<style scoped>\n",
       "    .dataframe tbody tr th:only-of-type {\n",
       "        vertical-align: middle;\n",
       "    }\n",
       "\n",
       "    .dataframe tbody tr th {\n",
       "        vertical-align: top;\n",
       "    }\n",
       "\n",
       "    .dataframe thead th {\n",
       "        text-align: right;\n",
       "    }\n",
       "</style>\n",
       "<table border=\"1\" class=\"dataframe\">\n",
       "  <thead>\n",
       "    <tr style=\"text-align: right;\">\n",
       "      <th></th>\n",
       "      <th>slice_file_name</th>\n",
       "      <th>fsID</th>\n",
       "      <th>start</th>\n",
       "      <th>end</th>\n",
       "      <th>salience</th>\n",
       "      <th>fold</th>\n",
       "      <th>classID</th>\n",
       "      <th>class</th>\n",
       "    </tr>\n",
       "  </thead>\n",
       "  <tbody>\n",
       "    <tr>\n",
       "      <th>0</th>\n",
       "      <td>100032-3-0-0.wav</td>\n",
       "      <td>100032</td>\n",
       "      <td>0.0</td>\n",
       "      <td>0.317551</td>\n",
       "      <td>1</td>\n",
       "      <td>5</td>\n",
       "      <td>3</td>\n",
       "      <td>dog_bark</td>\n",
       "    </tr>\n",
       "    <tr>\n",
       "      <th>1</th>\n",
       "      <td>100263-2-0-117.wav</td>\n",
       "      <td>100263</td>\n",
       "      <td>58.5</td>\n",
       "      <td>62.500000</td>\n",
       "      <td>1</td>\n",
       "      <td>5</td>\n",
       "      <td>2</td>\n",
       "      <td>children_playing</td>\n",
       "    </tr>\n",
       "    <tr>\n",
       "      <th>2</th>\n",
       "      <td>100263-2-0-121.wav</td>\n",
       "      <td>100263</td>\n",
       "      <td>60.5</td>\n",
       "      <td>64.500000</td>\n",
       "      <td>1</td>\n",
       "      <td>5</td>\n",
       "      <td>2</td>\n",
       "      <td>children_playing</td>\n",
       "    </tr>\n",
       "    <tr>\n",
       "      <th>3</th>\n",
       "      <td>100263-2-0-126.wav</td>\n",
       "      <td>100263</td>\n",
       "      <td>63.0</td>\n",
       "      <td>67.000000</td>\n",
       "      <td>1</td>\n",
       "      <td>5</td>\n",
       "      <td>2</td>\n",
       "      <td>children_playing</td>\n",
       "    </tr>\n",
       "    <tr>\n",
       "      <th>4</th>\n",
       "      <td>100263-2-0-137.wav</td>\n",
       "      <td>100263</td>\n",
       "      <td>68.5</td>\n",
       "      <td>72.500000</td>\n",
       "      <td>1</td>\n",
       "      <td>5</td>\n",
       "      <td>2</td>\n",
       "      <td>children_playing</td>\n",
       "    </tr>\n",
       "  </tbody>\n",
       "</table>\n",
       "</div>"
      ],
      "text/plain": [
       "      slice_file_name    fsID  start        end  salience  fold  classID  \\\n",
       "0    100032-3-0-0.wav  100032    0.0   0.317551         1     5        3   \n",
       "1  100263-2-0-117.wav  100263   58.5  62.500000         1     5        2   \n",
       "2  100263-2-0-121.wav  100263   60.5  64.500000         1     5        2   \n",
       "3  100263-2-0-126.wav  100263   63.0  67.000000         1     5        2   \n",
       "4  100263-2-0-137.wav  100263   68.5  72.500000         1     5        2   \n",
       "\n",
       "              class  \n",
       "0          dog_bark  \n",
       "1  children_playing  \n",
       "2  children_playing  \n",
       "3  children_playing  \n",
       "4  children_playing  "
      ]
     },
     "execution_count": 8,
     "metadata": {},
     "output_type": "execute_result"
    }
   ],
   "source": [
    "import pandas as pd\n",
    "\n",
    "metadata = pd.read_csv('UrbanSound8K.csv') \n",
    "\n",
    "metadata.head(5)"
   ]
  },
  {
   "cell_type": "code",
   "execution_count": 9,
   "metadata": {},
   "outputs": [
    {
     "data": {
      "text/html": [
       "<div>\n",
       "<style scoped>\n",
       "    .dataframe tbody tr th:only-of-type {\n",
       "        vertical-align: middle;\n",
       "    }\n",
       "\n",
       "    .dataframe tbody tr th {\n",
       "        vertical-align: top;\n",
       "    }\n",
       "\n",
       "    .dataframe thead th {\n",
       "        text-align: right;\n",
       "    }\n",
       "</style>\n",
       "<table border=\"1\" class=\"dataframe\">\n",
       "  <thead>\n",
       "    <tr style=\"text-align: right;\">\n",
       "      <th></th>\n",
       "      <th>slice_file_name</th>\n",
       "      <th>fsID</th>\n",
       "      <th>start</th>\n",
       "      <th>end</th>\n",
       "      <th>salience</th>\n",
       "      <th>fold</th>\n",
       "      <th>classID</th>\n",
       "      <th>class</th>\n",
       "    </tr>\n",
       "  </thead>\n",
       "  <tbody>\n",
       "    <tr>\n",
       "      <th>0</th>\n",
       "      <td>100032-3-0-0.wav</td>\n",
       "      <td>100032</td>\n",
       "      <td>0.0</td>\n",
       "      <td>0.317551</td>\n",
       "      <td>1</td>\n",
       "      <td>5</td>\n",
       "      <td>3</td>\n",
       "      <td>dog_bark</td>\n",
       "    </tr>\n",
       "    <tr>\n",
       "      <th>1</th>\n",
       "      <td>100263-2-0-117.wav</td>\n",
       "      <td>100263</td>\n",
       "      <td>58.5</td>\n",
       "      <td>62.500000</td>\n",
       "      <td>1</td>\n",
       "      <td>5</td>\n",
       "      <td>2</td>\n",
       "      <td>children_playing</td>\n",
       "    </tr>\n",
       "    <tr>\n",
       "      <th>2</th>\n",
       "      <td>100263-2-0-121.wav</td>\n",
       "      <td>100263</td>\n",
       "      <td>60.5</td>\n",
       "      <td>64.500000</td>\n",
       "      <td>1</td>\n",
       "      <td>5</td>\n",
       "      <td>2</td>\n",
       "      <td>children_playing</td>\n",
       "    </tr>\n",
       "    <tr>\n",
       "      <th>3</th>\n",
       "      <td>100263-2-0-126.wav</td>\n",
       "      <td>100263</td>\n",
       "      <td>63.0</td>\n",
       "      <td>67.000000</td>\n",
       "      <td>1</td>\n",
       "      <td>5</td>\n",
       "      <td>2</td>\n",
       "      <td>children_playing</td>\n",
       "    </tr>\n",
       "    <tr>\n",
       "      <th>4</th>\n",
       "      <td>100263-2-0-137.wav</td>\n",
       "      <td>100263</td>\n",
       "      <td>68.5</td>\n",
       "      <td>72.500000</td>\n",
       "      <td>1</td>\n",
       "      <td>5</td>\n",
       "      <td>2</td>\n",
       "      <td>children_playing</td>\n",
       "    </tr>\n",
       "  </tbody>\n",
       "</table>\n",
       "</div>"
      ],
      "text/plain": [
       "      slice_file_name    fsID  start        end  salience  fold  classID  \\\n",
       "0    100032-3-0-0.wav  100032    0.0   0.317551         1     5        3   \n",
       "1  100263-2-0-117.wav  100263   58.5  62.500000         1     5        2   \n",
       "2  100263-2-0-121.wav  100263   60.5  64.500000         1     5        2   \n",
       "3  100263-2-0-126.wav  100263   63.0  67.000000         1     5        2   \n",
       "4  100263-2-0-137.wav  100263   68.5  72.500000         1     5        2   \n",
       "\n",
       "              class  \n",
       "0          dog_bark  \n",
       "1  children_playing  \n",
       "2  children_playing  \n",
       "3  children_playing  \n",
       "4  children_playing  "
      ]
     },
     "execution_count": 9,
     "metadata": {},
     "output_type": "execute_result"
    }
   ],
   "source": [
    "test_data = metadata.__deepcopy__()\n",
    "test_data.head(5)"
   ]
  },
  {
   "cell_type": "code",
   "execution_count": 10,
   "metadata": {},
   "outputs": [
    {
     "name": "stdout",
     "output_type": "stream",
     "text": [
      "Stored 'dataset_mfcc' (ndarray)\n"
     ]
    },
    {
     "data": {
      "text/plain": [
       "array([[-463.11437988, -459.11575317, -457.93478394, ..., -373.82531738,\n",
       "        -348.72229004, -222.5680542 ],\n",
       "       [   6.40507984,   11.90687752,   13.64982986, ...,  113.06309509,\n",
       "         137.97808838,  149.25341797],\n",
       "       [   6.24001122,   11.29660988,   13.24950409, ...,   68.03630066,\n",
       "          73.55275726,   30.44655609],\n",
       "       ...,\n",
       "       [   1.69177103,   -1.88172507,   -1.18501472, ...,  -13.50051498,\n",
       "           0.69385326,   -0.62134945],\n",
       "       [   1.8546102 ,   -1.54264736,   -1.28383601, ...,  -11.77211189,\n",
       "           0.88274819,   -1.96269238],\n",
       "       [   1.98306143,   -1.20623755,   -1.36647367, ...,   -4.00553226,\n",
       "           2.95869207,    3.22776675]])"
      ]
     },
     "execution_count": 10,
     "metadata": {},
     "output_type": "execute_result"
    }
   ],
   "source": [
    "%store dataset_mfcc\n",
    "dataset_mfcc[0]\n",
    "#dataset_mfcc.tofile('mfcc.csv', sep=',')"
   ]
  },
  {
   "cell_type": "code",
   "execution_count": 11,
   "metadata": {},
   "outputs": [
    {
     "name": "stdout",
     "output_type": "stream",
     "text": [
      "Stored 'spectrogram_dataset' (ndarray)\n"
     ]
    },
    {
     "data": {
      "text/plain": [
       "array([[9.22176187e-05, 7.01832541e-05, 2.03987947e-05, ...,\n",
       "        2.88242823e-04, 7.24560115e-04, 6.12167222e-03],\n",
       "       [8.59618740e-05, 1.78999093e-04, 5.33761224e-04, ...,\n",
       "        8.13090475e-04, 3.46970931e-03, 1.35818226e-02],\n",
       "       [6.88650398e-05, 6.25248300e-04, 1.67922862e-03, ...,\n",
       "        1.35617773e-03, 4.76711895e-03, 3.22338194e-02],\n",
       "       ...,\n",
       "       [7.02667835e-09, 1.37795402e-08, 1.65571450e-08, ...,\n",
       "        2.24688979e-08, 4.55356940e-07, 1.74187116e-05],\n",
       "       [1.32673605e-09, 2.59812971e-09, 1.98949079e-09, ...,\n",
       "        2.45731036e-09, 2.57295397e-07, 1.06137295e-05],\n",
       "       [2.01663367e-10, 8.38841774e-11, 5.07661482e-11, ...,\n",
       "        5.86211149e-11, 1.62421387e-07, 6.93119364e-06]])"
      ]
     },
     "execution_count": 11,
     "metadata": {},
     "output_type": "execute_result"
    }
   ],
   "source": [
    "%store spectrogram_dataset\n",
    "spectrogram_dataset[0]"
   ]
  },
  {
   "cell_type": "code",
   "execution_count": 12,
   "metadata": {},
   "outputs": [],
   "source": [
    "# import pickle\n",
    "\n",
    "# file_name = \"mfcc_shared\"\n",
    "# with open(file_name,'wb') as my_file_obj:\n",
    "#     pickle.dump(dataset_mfcc,my_file_obj)\n",
    "\n",
    "# file_name = \"spec_data_shared\"\n",
    "# with open(file_name,'wb') as my_file_obj:\n",
    "#     pickle.dump(spectrogram_dataset,my_file_obj)"
   ]
  },
  {
   "cell_type": "code",
   "execution_count": 15,
   "metadata": {},
   "outputs": [
    {
     "data": {
      "text/plain": [
       "array([[9.22176187e-05, 7.01832541e-05, 2.03987947e-05, ...,\n",
       "        2.88242823e-04, 7.24560115e-04, 6.12167222e-03],\n",
       "       [8.59618740e-05, 1.78999093e-04, 5.33761224e-04, ...,\n",
       "        8.13090475e-04, 3.46970931e-03, 1.35818226e-02],\n",
       "       [6.88650398e-05, 6.25248300e-04, 1.67922862e-03, ...,\n",
       "        1.35617773e-03, 4.76711895e-03, 3.22338194e-02],\n",
       "       ...,\n",
       "       [7.02667835e-09, 1.37795402e-08, 1.65571450e-08, ...,\n",
       "        2.24688979e-08, 4.55356940e-07, 1.74187116e-05],\n",
       "       [1.32673605e-09, 2.59812971e-09, 1.98949079e-09, ...,\n",
       "        2.45731036e-09, 2.57295397e-07, 1.06137295e-05],\n",
       "       [2.01663367e-10, 8.38841774e-11, 5.07661482e-11, ...,\n",
       "        5.86211149e-11, 1.62421387e-07, 6.93119364e-06]])"
      ]
     },
     "execution_count": 15,
     "metadata": {},
     "output_type": "execute_result"
    }
   ],
   "source": [
    "spectrogram_dataset[0]"
   ]
  },
  {
   "cell_type": "code",
   "execution_count": 16,
   "metadata": {},
   "outputs": [
    {
     "data": {
      "text/plain": [
       "array([[-463.11437988, -459.11575317, -457.93478394, ..., -373.82531738,\n",
       "        -348.72229004, -222.5680542 ],\n",
       "       [   6.40507984,   11.90687752,   13.64982986, ...,  113.06309509,\n",
       "         137.97808838,  149.25341797],\n",
       "       [   6.24001122,   11.29660988,   13.24950409, ...,   68.03630066,\n",
       "          73.55275726,   30.44655609],\n",
       "       ...,\n",
       "       [   1.69177103,   -1.88172507,   -1.18501472, ...,  -13.50051498,\n",
       "           0.69385326,   -0.62134945],\n",
       "       [   1.8546102 ,   -1.54264736,   -1.28383601, ...,  -11.77211189,\n",
       "           0.88274819,   -1.96269238],\n",
       "       [   1.98306143,   -1.20623755,   -1.36647367, ...,   -4.00553226,\n",
       "           2.95869207,    3.22776675]])"
      ]
     },
     "execution_count": 16,
     "metadata": {},
     "output_type": "execute_result"
    }
   ],
   "source": [
    "dataset_mfcc[0]"
   ]
  },
  {
   "cell_type": "code",
   "execution_count": 22,
   "metadata": {},
   "outputs": [
    {
     "data": {
      "image/png": "[encoded data removed]",
      "text/plain": [
       "<Figure size 640x480 with 1 Axes>"
      ]
     },
     "metadata": {},
     "output_type": "display_data"
    }
   ],
   "source": [
    "import librosa.display\n",
    "\n",
    "\n",
    "fig, ax = plt.subplots()\n",
    "\n",
    "S_dB = librosa.power_to_db(spectrogram_dataset[0], ref=np.max)\n",
    "\n",
    "img = librosa.display.specshow(S_dB, x_axis='time',y_axis='mel', sr=44100, fmax=8000, ax=ax)\n",
    "\n",
    "# fig.colorbar(img, ax=ax, format='%+2.0f dB')\n",
    "plt.bounds\n",
    "plt.savefig('spec_images/image.png')\n",
    "\n",
    "# ax.set(title='Mel-frequency spectrogram example')"
   ]
  },
  {
   "cell_type": "code",
   "execution_count": 14,
   "metadata": {},
   "outputs": [
    {
     "data": {
      "text/html": [
       "<div>\n",
       "<style scoped>\n",
       "    .dataframe tbody tr th:only-of-type {\n",
       "        vertical-align: middle;\n",
       "    }\n",
       "\n",
       "    .dataframe tbody tr th {\n",
       "        vertical-align: top;\n",
       "    }\n",
       "\n",
       "    .dataframe thead th {\n",
       "        text-align: right;\n",
       "    }\n",
       "</style>\n",
       "<table border=\"1\" class=\"dataframe\">\n",
       "  <thead>\n",
       "    <tr style=\"text-align: right;\">\n",
       "      <th></th>\n",
       "      <th>slice_file_name</th>\n",
       "      <th>fsID</th>\n",
       "      <th>start</th>\n",
       "      <th>end</th>\n",
       "      <th>salience</th>\n",
       "      <th>fold</th>\n",
       "      <th>classID</th>\n",
       "      <th>class</th>\n",
       "      <th>image_data</th>\n",
       "    </tr>\n",
       "  </thead>\n",
       "  <tbody>\n",
       "    <tr>\n",
       "      <th>0</th>\n",
       "      <td>100032-3-0-0.wav</td>\n",
       "      <td>100032</td>\n",
       "      <td>0.000000</td>\n",
       "      <td>0.317551</td>\n",
       "      <td>1</td>\n",
       "      <td>5</td>\n",
       "      <td>3</td>\n",
       "      <td>dog_bark</td>\n",
       "      <td>NaN</td>\n",
       "    </tr>\n",
       "    <tr>\n",
       "      <th>1</th>\n",
       "      <td>100263-2-0-117.wav</td>\n",
       "      <td>100263</td>\n",
       "      <td>58.500000</td>\n",
       "      <td>62.500000</td>\n",
       "      <td>1</td>\n",
       "      <td>5</td>\n",
       "      <td>2</td>\n",
       "      <td>children_playing</td>\n",
       "      <td>NaN</td>\n",
       "    </tr>\n",
       "    <tr>\n",
       "      <th>2</th>\n",
       "      <td>100263-2-0-121.wav</td>\n",
       "      <td>100263</td>\n",
       "      <td>60.500000</td>\n",
       "      <td>64.500000</td>\n",
       "      <td>1</td>\n",
       "      <td>5</td>\n",
       "      <td>2</td>\n",
       "      <td>children_playing</td>\n",
       "      <td>NaN</td>\n",
       "    </tr>\n",
       "    <tr>\n",
       "      <th>3</th>\n",
       "      <td>100263-2-0-126.wav</td>\n",
       "      <td>100263</td>\n",
       "      <td>63.000000</td>\n",
       "      <td>67.000000</td>\n",
       "      <td>1</td>\n",
       "      <td>5</td>\n",
       "      <td>2</td>\n",
       "      <td>children_playing</td>\n",
       "      <td>NaN</td>\n",
       "    </tr>\n",
       "    <tr>\n",
       "      <th>4</th>\n",
       "      <td>100263-2-0-137.wav</td>\n",
       "      <td>100263</td>\n",
       "      <td>68.500000</td>\n",
       "      <td>72.500000</td>\n",
       "      <td>1</td>\n",
       "      <td>5</td>\n",
       "      <td>2</td>\n",
       "      <td>children_playing</td>\n",
       "      <td>NaN</td>\n",
       "    </tr>\n",
       "    <tr>\n",
       "      <th>...</th>\n",
       "      <td>...</td>\n",
       "      <td>...</td>\n",
       "      <td>...</td>\n",
       "      <td>...</td>\n",
       "      <td>...</td>\n",
       "      <td>...</td>\n",
       "      <td>...</td>\n",
       "      <td>...</td>\n",
       "      <td>...</td>\n",
       "    </tr>\n",
       "    <tr>\n",
       "      <th>8727</th>\n",
       "      <td>99812-1-2-0.wav</td>\n",
       "      <td>99812</td>\n",
       "      <td>159.522205</td>\n",
       "      <td>163.522205</td>\n",
       "      <td>2</td>\n",
       "      <td>7</td>\n",
       "      <td>1</td>\n",
       "      <td>car_horn</td>\n",
       "      <td>NaN</td>\n",
       "    </tr>\n",
       "    <tr>\n",
       "      <th>8728</th>\n",
       "      <td>99812-1-3-0.wav</td>\n",
       "      <td>99812</td>\n",
       "      <td>181.142431</td>\n",
       "      <td>183.284976</td>\n",
       "      <td>2</td>\n",
       "      <td>7</td>\n",
       "      <td>1</td>\n",
       "      <td>car_horn</td>\n",
       "      <td>NaN</td>\n",
       "    </tr>\n",
       "    <tr>\n",
       "      <th>8729</th>\n",
       "      <td>99812-1-4-0.wav</td>\n",
       "      <td>99812</td>\n",
       "      <td>242.691902</td>\n",
       "      <td>246.197885</td>\n",
       "      <td>2</td>\n",
       "      <td>7</td>\n",
       "      <td>1</td>\n",
       "      <td>car_horn</td>\n",
       "      <td>NaN</td>\n",
       "    </tr>\n",
       "    <tr>\n",
       "      <th>8730</th>\n",
       "      <td>99812-1-5-0.wav</td>\n",
       "      <td>99812</td>\n",
       "      <td>253.209850</td>\n",
       "      <td>255.741948</td>\n",
       "      <td>2</td>\n",
       "      <td>7</td>\n",
       "      <td>1</td>\n",
       "      <td>car_horn</td>\n",
       "      <td>NaN</td>\n",
       "    </tr>\n",
       "    <tr>\n",
       "      <th>8731</th>\n",
       "      <td>99812-1-6-0.wav</td>\n",
       "      <td>99812</td>\n",
       "      <td>332.289233</td>\n",
       "      <td>334.821332</td>\n",
       "      <td>2</td>\n",
       "      <td>7</td>\n",
       "      <td>1</td>\n",
       "      <td>car_horn</td>\n",
       "      <td>NaN</td>\n",
       "    </tr>\n",
       "  </tbody>\n",
       "</table>\n",
       "<p>8732 rows × 9 columns</p>\n",
       "</div>"
      ],
      "text/plain": [
       "         slice_file_name    fsID       start         end  salience  fold  \\\n",
       "0       100032-3-0-0.wav  100032    0.000000    0.317551         1     5   \n",
       "1     100263-2-0-117.wav  100263   58.500000   62.500000         1     5   \n",
       "2     100263-2-0-121.wav  100263   60.500000   64.500000         1     5   \n",
       "3     100263-2-0-126.wav  100263   63.000000   67.000000         1     5   \n",
       "4     100263-2-0-137.wav  100263   68.500000   72.500000         1     5   \n",
       "...                  ...     ...         ...         ...       ...   ...   \n",
       "8727     99812-1-2-0.wav   99812  159.522205  163.522205         2     7   \n",
       "8728     99812-1-3-0.wav   99812  181.142431  183.284976         2     7   \n",
       "8729     99812-1-4-0.wav   99812  242.691902  246.197885         2     7   \n",
       "8730     99812-1-5-0.wav   99812  253.209850  255.741948         2     7   \n",
       "8731     99812-1-6-0.wav   99812  332.289233  334.821332         2     7   \n",
       "\n",
       "      classID             class  image_data  \n",
       "0           3          dog_bark         NaN  \n",
       "1           2  children_playing         NaN  \n",
       "2           2  children_playing         NaN  \n",
       "3           2  children_playing         NaN  \n",
       "4           2  children_playing         NaN  \n",
       "...       ...               ...         ...  \n",
       "8727        1          car_horn         NaN  \n",
       "8728        1          car_horn         NaN  \n",
       "8729        1          car_horn         NaN  \n",
       "8730        1          car_horn         NaN  \n",
       "8731        1          car_horn         NaN  \n",
       "\n",
       "[8732 rows x 9 columns]"
      ]
     },
     "execution_count": 14,
     "metadata": {},
     "output_type": "execute_result"
    }
   ],
   "source": [
    "test_data['image_data'] = np.nan\n",
    "\n",
    "test_data"
   ]
  }
 ],
 "metadata": {
  "kernelspec": {
   "display_name": "tensorfds",
   "language": "python",
   "name": "python3"
  },
  "language_info": {
   "codemirror_mode": {
    "name": "ipython",
    "version": 3
   },
   "file_extension": ".py",
   "mimetype": "text/x-python",
   "name": "python",
   "nbconvert_exporter": "python",
   "pygments_lexer": "ipython3",
   "version": "3.9.18"
  }
 },
 "nbformat": 4,
 "nbformat_minor": 2
}
